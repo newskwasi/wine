{
  "nbformat": 4,
  "nbformat_minor": 0,
  "metadata": {
    "kernelspec": {
      "display_name": "Python 3",
      "language": "python",
      "name": "python3"
    },
    "language_info": {
      "codemirror_mode": {
        "name": "ipython",
        "version": 3
      },
      "file_extension": ".py",
      "mimetype": "text/x-python",
      "name": "python",
      "nbconvert_exporter": "python",
      "pygments_lexer": "ipython3",
      "version": "3.8.6"
    },
    "colab": {
      "name": "ASIEDU_WineReview_MachineLearning",
      "provenance": []
    }
  },
  "cells": [
    {
      "cell_type": "markdown",
      "metadata": {
        "id": "YMMiQAohZokF"
      },
      "source": [
        "# Machine learning on wine\n",
        "\n",
        "**Topics:** Text analysis, linear regression, logistic regression, text analysis, classification\n",
        "\n",
        "**Datasets**\n",
        "\n",
        "- **wine-reviews.csv** Wine reviews scraped from https://www.winemag.com/\n",
        "- **Data dictionary:** just go [here](https://www.winemag.com/buying-guide/tenuta-dellornellaia-2007-masseto-merlot-toscana/) and look at the page\n",
        "\n",
        "## The background\n",
        "\n",
        "You work in the **worst newsroom in the world**, and you've had a hard few weeks at work - a couple stories killed, a few scoops stolen out from under you. It's not going well.\n",
        "\n",
        "And because things just can't get any worse: your boss shows up, carrying a huge binder. She slams it down on your desk.\n",
        "\n",
        "\"You know some machine learning stuff, right?\"\n",
        "\n",
        "You say \"no,\" but she isn't listening. She's giving you an assignment, the _worst assignment_...\n",
        "\n",
        "> Machine learning is the new maps. Let's get some hits!\n",
        ">\n",
        "> **Do some machine learning on this stuff.**\n",
        "\n",
        "\"This stuff\" is wine reviews.\n",
        "\n",
        "## A tiny, meagre bit of help\n",
        "\n",
        "You have a dataset. It has some stuff in it:\n",
        "\n",
        "* **Numbers:**\n",
        "    - Year published\n",
        "    - Alcohol percentage\n",
        "    - Price\n",
        "    - Score\n",
        "    - Bottle size\n",
        "* **Categories:**\n",
        "    - Red vs white\n",
        "    - Different countries\n",
        "    - Importer\n",
        "    - Designation\n",
        "    - Taster\n",
        "    - Variety\n",
        "    - Winery\n",
        "* **Free text:**\n",
        "    - Wine description"
      ]
    },
    {
      "cell_type": "markdown",
      "metadata": {
        "id": "1bHnkCgTZokI"
      },
      "source": [
        "# Cleaning up your data\n",
        "\n",
        "Many of these pieces - the alcohol, the year produced, the bottle size, the country the wine is from - aren't in a format you can use. Convert the ones to numbers that are numbers, and extract the others from the appropriate strings."
      ]
    },
    {
      "cell_type": "code",
      "metadata": {
        "id": "LvGe9vduZokJ"
      },
      "source": [
        "import pandas as pd\n",
        "\n",
        "\n",
        "pd.set_option('display.max_columns', 200)\n",
        "pd.set_option('display.max_rows', 200)"
      ],
      "execution_count": 1,
      "outputs": []
    },
    {
      "cell_type": "code",
      "metadata": {
        "colab": {
          "resources": {
            "http://localhost:8080/nbextensions/google.colab/files.js": {
              "data": "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",
              "ok": true,
              "headers": [
                [
                  "content-type",
                  "application/javascript"
                ]
              ],
              "status": 200,
              "status_text": ""
            }
          },
          "base_uri": "https://localhost:8080/",
          "height": 72
        },
        "id": "SHnkdb78aD6S",
        "outputId": "a7e3072f-7a32-4336-9106-f57eeba1220d"
      },
      "source": [
        "from google.colab import files\n",
        "uploaded = files.upload()"
      ],
      "execution_count": 4,
      "outputs": [
        {
          "output_type": "display_data",
          "data": {
            "text/html": [
              "\n",
              "     <input type=\"file\" id=\"files-3fdae2df-dd0d-415c-bfed-77381ad74ad5\" name=\"files[]\" multiple disabled\n",
              "        style=\"border:none\" />\n",
              "     <output id=\"result-3fdae2df-dd0d-415c-bfed-77381ad74ad5\">\n",
              "      Upload widget is only available when the cell has been executed in the\n",
              "      current browser session. Please rerun this cell to enable.\n",
              "      </output>\n",
              "      <script src=\"/nbextensions/google.colab/files.js\"></script> "
            ],
            "text/plain": [
              "<IPython.core.display.HTML object>"
            ]
          },
          "metadata": {
            "tags": []
          }
        },
        {
          "output_type": "stream",
          "text": [
            "Saving wine-reviews.csv to wine-reviews.csv\n"
          ],
          "name": "stdout"
        }
      ]
    },
    {
      "cell_type": "code",
      "metadata": {
        "colab": {
          "base_uri": "https://localhost:8080/",
          "height": 683
        },
        "id": "Tn0oRrZ5ZokJ",
        "outputId": "3808734d-6a90-4dd5-c281-c8d9a227a9e9"
      },
      "source": [
        "df = pd.read_csv(\"wine-reviews.csv\")\n",
        "df.head(5)"
      ],
      "execution_count": 5,
      "outputs": [
        {
          "output_type": "execute_result",
          "data": {
            "text/html": [
              "<div>\n",
              "<style scoped>\n",
              "    .dataframe tbody tr th:only-of-type {\n",
              "        vertical-align: middle;\n",
              "    }\n",
              "\n",
              "    .dataframe tbody tr th {\n",
              "        vertical-align: top;\n",
              "    }\n",
              "\n",
              "    .dataframe thead th {\n",
              "        text-align: right;\n",
              "    }\n",
              "</style>\n",
              "<table border=\"1\" class=\"dataframe\">\n",
              "  <thead>\n",
              "    <tr style=\"text-align: right;\">\n",
              "      <th></th>\n",
              "      <th>url</th>\n",
              "      <th>wine_points</th>\n",
              "      <th>wine_name</th>\n",
              "      <th>wine_desc</th>\n",
              "      <th>taster</th>\n",
              "      <th>price</th>\n",
              "      <th>designation</th>\n",
              "      <th>variety</th>\n",
              "      <th>appellation</th>\n",
              "      <th>winery</th>\n",
              "      <th>alcohol</th>\n",
              "      <th>bottle size</th>\n",
              "      <th>category</th>\n",
              "      <th>importer</th>\n",
              "      <th>date published</th>\n",
              "      <th>user avg rating</th>\n",
              "    </tr>\n",
              "  </thead>\n",
              "  <tbody>\n",
              "    <tr>\n",
              "      <th>0</th>\n",
              "      <td>https://www.winemag.com/buying-guide/artadi-20...</td>\n",
              "      <td>90.0</td>\n",
              "      <td>Artadi 2011 Viñas de Gain  (Rioja)</td>\n",
              "      <td>Inky, minerally aromas of blackberry, black pl...</td>\n",
              "      <td>Michael Schachner</td>\n",
              "      <td>$25,  Buy Now</td>\n",
              "      <td>Viñas de Gain</td>\n",
              "      <td>Tempranillo</td>\n",
              "      <td>Rioja, Northern Spain, Spain</td>\n",
              "      <td>Artadi</td>\n",
              "      <td>14.5%</td>\n",
              "      <td>750 ml</td>\n",
              "      <td>Red</td>\n",
              "      <td>Folio Fine Wine Partners</td>\n",
              "      <td>12/1/2014</td>\n",
              "      <td>Not rated yet [Add Your Review]</td>\n",
              "    </tr>\n",
              "    <tr>\n",
              "      <th>1</th>\n",
              "      <td>https://www.winemag.com/buying-guide/adelsheim...</td>\n",
              "      <td>90.0</td>\n",
              "      <td>Adelsheim 2012 Stoller Vineyard Chardonnay (Du...</td>\n",
              "      <td>A tiny production wine, this is rich, tart and...</td>\n",
              "      <td>Paul Gregutt</td>\n",
              "      <td>$65,  Buy Now</td>\n",
              "      <td>Stoller Vineyard</td>\n",
              "      <td>Chardonnay</td>\n",
              "      <td>Dundee Hills, Willamette Valley, Oregon, US</td>\n",
              "      <td>Adelsheim</td>\n",
              "      <td>13.5%</td>\n",
              "      <td>750 ml</td>\n",
              "      <td>White</td>\n",
              "      <td>NaN</td>\n",
              "      <td>12/1/2014</td>\n",
              "      <td>Not rated yet [Add Your Review]</td>\n",
              "    </tr>\n",
              "    <tr>\n",
              "      <th>2</th>\n",
              "      <td>https://www.winemag.com/buying-guide/adelsheim...</td>\n",
              "      <td>90.0</td>\n",
              "      <td>Adelsheim 2013 Ribbon Springs Vineyard Auxerro...</td>\n",
              "      <td>This is another fine vintage for this rare win...</td>\n",
              "      <td>Paul Gregutt</td>\n",
              "      <td>$25,  Buy Now</td>\n",
              "      <td>Ribbon Springs Vineyard</td>\n",
              "      <td>Auxerrois, Other White</td>\n",
              "      <td>Ribbon Ridge, Willamette Valley, Oregon, US</td>\n",
              "      <td>Adelsheim</td>\n",
              "      <td>13.5%</td>\n",
              "      <td>750 ml</td>\n",
              "      <td>White</td>\n",
              "      <td>NaN</td>\n",
              "      <td>12/1/2014</td>\n",
              "      <td>Not rated yet [Add Your Review]</td>\n",
              "    </tr>\n",
              "    <tr>\n",
              "      <th>3</th>\n",
              "      <td>https://www.winemag.com/buying-guide/jcb-2011-...</td>\n",
              "      <td>90.0</td>\n",
              "      <td>JCB 2011 No. 11 Pinot Noir (Sonoma Coast)</td>\n",
              "      <td>Light in color and lilting floral aromas of ro...</td>\n",
              "      <td>Virginie Boone</td>\n",
              "      <td>$65,  Buy Now</td>\n",
              "      <td>No. 11</td>\n",
              "      <td>Pinot Noir</td>\n",
              "      <td>Sonoma Coast, Sonoma, California, US</td>\n",
              "      <td>JCB</td>\n",
              "      <td>13%</td>\n",
              "      <td>750 ml</td>\n",
              "      <td>Red</td>\n",
              "      <td>NaN</td>\n",
              "      <td>12/1/2014</td>\n",
              "      <td>Not rated yet [Add Your Review]</td>\n",
              "    </tr>\n",
              "    <tr>\n",
              "      <th>4</th>\n",
              "      <td>https://www.winemag.com/buying-guide/pazo-pond...</td>\n",
              "      <td>90.0</td>\n",
              "      <td>Pazo Pondal 2013 Albariño (Rías Baixas)</td>\n",
              "      <td>Alluring, inviting aromas of white flowers, me...</td>\n",
              "      <td>Michael Schachner</td>\n",
              "      <td>$17,  Buy Now</td>\n",
              "      <td>NaN</td>\n",
              "      <td>Albariño</td>\n",
              "      <td>Rías Baixas, Galicia, Spain</td>\n",
              "      <td>Pazo Pondal</td>\n",
              "      <td>13%</td>\n",
              "      <td>750 ml</td>\n",
              "      <td>White</td>\n",
              "      <td>Vinaio Imports</td>\n",
              "      <td>12/1/2014</td>\n",
              "      <td>Not rated yet [Add Your Review]</td>\n",
              "    </tr>\n",
              "  </tbody>\n",
              "</table>\n",
              "</div>"
            ],
            "text/plain": [
              "                                                 url  wine_points  \\\n",
              "0  https://www.winemag.com/buying-guide/artadi-20...         90.0   \n",
              "1  https://www.winemag.com/buying-guide/adelsheim...         90.0   \n",
              "2  https://www.winemag.com/buying-guide/adelsheim...         90.0   \n",
              "3  https://www.winemag.com/buying-guide/jcb-2011-...         90.0   \n",
              "4  https://www.winemag.com/buying-guide/pazo-pond...         90.0   \n",
              "\n",
              "                                           wine_name  \\\n",
              "0                 Artadi 2011 Viñas de Gain  (Rioja)   \n",
              "1  Adelsheim 2012 Stoller Vineyard Chardonnay (Du...   \n",
              "2  Adelsheim 2013 Ribbon Springs Vineyard Auxerro...   \n",
              "3          JCB 2011 No. 11 Pinot Noir (Sonoma Coast)   \n",
              "4            Pazo Pondal 2013 Albariño (Rías Baixas)   \n",
              "\n",
              "                                           wine_desc             taster  \\\n",
              "0  Inky, minerally aromas of blackberry, black pl...  Michael Schachner   \n",
              "1  A tiny production wine, this is rich, tart and...       Paul Gregutt   \n",
              "2  This is another fine vintage for this rare win...       Paul Gregutt   \n",
              "3  Light in color and lilting floral aromas of ro...     Virginie Boone   \n",
              "4  Alluring, inviting aromas of white flowers, me...  Michael Schachner   \n",
              "\n",
              "           price              designation                 variety  \\\n",
              "0  $25,  Buy Now            Viñas de Gain             Tempranillo   \n",
              "1  $65,  Buy Now         Stoller Vineyard              Chardonnay   \n",
              "2  $25,  Buy Now  Ribbon Springs Vineyard  Auxerrois, Other White   \n",
              "3  $65,  Buy Now                   No. 11              Pinot Noir   \n",
              "4  $17,  Buy Now                      NaN                Albariño   \n",
              "\n",
              "                                   appellation       winery alcohol  \\\n",
              "0                 Rioja, Northern Spain, Spain       Artadi   14.5%   \n",
              "1  Dundee Hills, Willamette Valley, Oregon, US    Adelsheim   13.5%   \n",
              "2  Ribbon Ridge, Willamette Valley, Oregon, US    Adelsheim   13.5%   \n",
              "3         Sonoma Coast, Sonoma, California, US          JCB     13%   \n",
              "4                  Rías Baixas, Galicia, Spain  Pazo Pondal     13%   \n",
              "\n",
              "  bottle size category                  importer date published  \\\n",
              "0      750 ml      Red  Folio Fine Wine Partners      12/1/2014   \n",
              "1      750 ml    White                       NaN      12/1/2014   \n",
              "2      750 ml    White                       NaN      12/1/2014   \n",
              "3      750 ml      Red                       NaN      12/1/2014   \n",
              "4      750 ml    White            Vinaio Imports      12/1/2014   \n",
              "\n",
              "                   user avg rating  \n",
              "0  Not rated yet [Add Your Review]  \n",
              "1  Not rated yet [Add Your Review]  \n",
              "2  Not rated yet [Add Your Review]  \n",
              "3  Not rated yet [Add Your Review]  \n",
              "4  Not rated yet [Add Your Review]  "
            ]
          },
          "metadata": {
            "tags": []
          },
          "execution_count": 5
        }
      ]
    },
    {
      "cell_type": "code",
      "metadata": {
        "colab": {
          "base_uri": "https://localhost:8080/"
        },
        "id": "2vHBsPyKZokJ",
        "outputId": "077f39ef-0c0c-4524-b2a6-b6f336daeb26"
      },
      "source": [
        "df.shape"
      ],
      "execution_count": 6,
      "outputs": [
        {
          "output_type": "execute_result",
          "data": {
            "text/plain": [
              "(42295, 16)"
            ]
          },
          "metadata": {
            "tags": []
          },
          "execution_count": 6
        }
      ]
    },
    {
      "cell_type": "code",
      "metadata": {
        "id": "CIkNnBpSZokK"
      },
      "source": [
        "# cleaning price column\n",
        "df.price = df.price.str.replace(\"$\", \"\")"
      ],
      "execution_count": 8,
      "outputs": []
    },
    {
      "cell_type": "code",
      "metadata": {
        "id": "Ph5L3ySrZokK"
      },
      "source": [
        "df.price = df.price.str.replace(\"Buy Now\", \"\")"
      ],
      "execution_count": 9,
      "outputs": []
    },
    {
      "cell_type": "code",
      "metadata": {
        "id": "TP1mWg2tZokK"
      },
      "source": [
        "df.price = df.price.replace(',','', regex=True)"
      ],
      "execution_count": 14,
      "outputs": []
    },
    {
      "cell_type": "code",
      "metadata": {
        "id": "YKcwBGpgZokK"
      },
      "source": [
        "# cleaning alcohol column\n",
        "df.alcohol = df.alcohol.replace('%','', regex=True)"
      ],
      "execution_count": 10,
      "outputs": []
    },
    {
      "cell_type": "code",
      "metadata": {
        "id": "SPKvviDrZokK"
      },
      "source": [
        "# cleaning bottle size column\n",
        "df['bottle size'] = df['bottle size'].str.replace('ml','')"
      ],
      "execution_count": 11,
      "outputs": []
    },
    {
      "cell_type": "code",
      "metadata": {
        "id": "shKX13WfZokK"
      },
      "source": [
        "# cleaning country column\n",
        "df['country']= df.appellation.str.rsplit(',').str[-1]"
      ],
      "execution_count": 13,
      "outputs": []
    },
    {
      "cell_type": "code",
      "metadata": {
        "id": "prB5qj0UZokK"
      },
      "source": [
        "# cleaning year column\n",
        "df['year'] = df['date published'].str[-4:]"
      ],
      "execution_count": 15,
      "outputs": []
    },
    {
      "cell_type": "code",
      "metadata": {
        "id": "hIUgsYZzZokK"
      },
      "source": [
        "df['year'] = df['year'].astype(float)"
      ],
      "execution_count": 16,
      "outputs": []
    },
    {
      "cell_type": "code",
      "metadata": {
        "id": "76nvqUbpZokK"
      },
      "source": [
        "df['year'] = 2021 - df['year']"
      ],
      "execution_count": 17,
      "outputs": []
    },
    {
      "cell_type": "code",
      "metadata": {
        "id": "bjXwkG0mZokK"
      },
      "source": [
        "#df.isna().sum()"
      ],
      "execution_count": null,
      "outputs": []
    },
    {
      "cell_type": "code",
      "metadata": {
        "colab": {
          "base_uri": "https://localhost:8080/",
          "height": 1000
        },
        "id": "ZydwcjQ2ZokL",
        "outputId": "03c30109-e7ad-42be-e1d5-49edc31096e4"
      },
      "source": [
        "df.head(10)"
      ],
      "execution_count": 19,
      "outputs": [
        {
          "output_type": "execute_result",
          "data": {
            "text/html": [
              "<div>\n",
              "<style scoped>\n",
              "    .dataframe tbody tr th:only-of-type {\n",
              "        vertical-align: middle;\n",
              "    }\n",
              "\n",
              "    .dataframe tbody tr th {\n",
              "        vertical-align: top;\n",
              "    }\n",
              "\n",
              "    .dataframe thead th {\n",
              "        text-align: right;\n",
              "    }\n",
              "</style>\n",
              "<table border=\"1\" class=\"dataframe\">\n",
              "  <thead>\n",
              "    <tr style=\"text-align: right;\">\n",
              "      <th></th>\n",
              "      <th>url</th>\n",
              "      <th>wine_points</th>\n",
              "      <th>wine_name</th>\n",
              "      <th>wine_desc</th>\n",
              "      <th>taster</th>\n",
              "      <th>price</th>\n",
              "      <th>designation</th>\n",
              "      <th>variety</th>\n",
              "      <th>appellation</th>\n",
              "      <th>winery</th>\n",
              "      <th>alcohol</th>\n",
              "      <th>bottle size</th>\n",
              "      <th>category</th>\n",
              "      <th>importer</th>\n",
              "      <th>date published</th>\n",
              "      <th>user avg rating</th>\n",
              "      <th>country</th>\n",
              "      <th>year</th>\n",
              "    </tr>\n",
              "  </thead>\n",
              "  <tbody>\n",
              "    <tr>\n",
              "      <th>0</th>\n",
              "      <td>https://www.winemag.com/buying-guide/artadi-20...</td>\n",
              "      <td>90.0</td>\n",
              "      <td>Artadi 2011 Viñas de Gain  (Rioja)</td>\n",
              "      <td>Inky, minerally aromas of blackberry, black pl...</td>\n",
              "      <td>Michael Schachner</td>\n",
              "      <td>25</td>\n",
              "      <td>Viñas de Gain</td>\n",
              "      <td>Tempranillo</td>\n",
              "      <td>Rioja, Northern Spain, Spain</td>\n",
              "      <td>Artadi</td>\n",
              "      <td>14.5</td>\n",
              "      <td>750</td>\n",
              "      <td>Red</td>\n",
              "      <td>Folio Fine Wine Partners</td>\n",
              "      <td>12/1/2014</td>\n",
              "      <td>Not rated yet [Add Your Review]</td>\n",
              "      <td>Spain</td>\n",
              "      <td>7.0</td>\n",
              "    </tr>\n",
              "    <tr>\n",
              "      <th>1</th>\n",
              "      <td>https://www.winemag.com/buying-guide/adelsheim...</td>\n",
              "      <td>90.0</td>\n",
              "      <td>Adelsheim 2012 Stoller Vineyard Chardonnay (Du...</td>\n",
              "      <td>A tiny production wine, this is rich, tart and...</td>\n",
              "      <td>Paul Gregutt</td>\n",
              "      <td>65</td>\n",
              "      <td>Stoller Vineyard</td>\n",
              "      <td>Chardonnay</td>\n",
              "      <td>Dundee Hills, Willamette Valley, Oregon, US</td>\n",
              "      <td>Adelsheim</td>\n",
              "      <td>13.5</td>\n",
              "      <td>750</td>\n",
              "      <td>White</td>\n",
              "      <td>NaN</td>\n",
              "      <td>12/1/2014</td>\n",
              "      <td>Not rated yet [Add Your Review]</td>\n",
              "      <td>US</td>\n",
              "      <td>7.0</td>\n",
              "    </tr>\n",
              "    <tr>\n",
              "      <th>2</th>\n",
              "      <td>https://www.winemag.com/buying-guide/adelsheim...</td>\n",
              "      <td>90.0</td>\n",
              "      <td>Adelsheim 2013 Ribbon Springs Vineyard Auxerro...</td>\n",
              "      <td>This is another fine vintage for this rare win...</td>\n",
              "      <td>Paul Gregutt</td>\n",
              "      <td>25</td>\n",
              "      <td>Ribbon Springs Vineyard</td>\n",
              "      <td>Auxerrois, Other White</td>\n",
              "      <td>Ribbon Ridge, Willamette Valley, Oregon, US</td>\n",
              "      <td>Adelsheim</td>\n",
              "      <td>13.5</td>\n",
              "      <td>750</td>\n",
              "      <td>White</td>\n",
              "      <td>NaN</td>\n",
              "      <td>12/1/2014</td>\n",
              "      <td>Not rated yet [Add Your Review]</td>\n",
              "      <td>US</td>\n",
              "      <td>7.0</td>\n",
              "    </tr>\n",
              "    <tr>\n",
              "      <th>3</th>\n",
              "      <td>https://www.winemag.com/buying-guide/jcb-2011-...</td>\n",
              "      <td>90.0</td>\n",
              "      <td>JCB 2011 No. 11 Pinot Noir (Sonoma Coast)</td>\n",
              "      <td>Light in color and lilting floral aromas of ro...</td>\n",
              "      <td>Virginie Boone</td>\n",
              "      <td>65</td>\n",
              "      <td>No. 11</td>\n",
              "      <td>Pinot Noir</td>\n",
              "      <td>Sonoma Coast, Sonoma, California, US</td>\n",
              "      <td>JCB</td>\n",
              "      <td>13</td>\n",
              "      <td>750</td>\n",
              "      <td>Red</td>\n",
              "      <td>NaN</td>\n",
              "      <td>12/1/2014</td>\n",
              "      <td>Not rated yet [Add Your Review]</td>\n",
              "      <td>US</td>\n",
              "      <td>7.0</td>\n",
              "    </tr>\n",
              "    <tr>\n",
              "      <th>4</th>\n",
              "      <td>https://www.winemag.com/buying-guide/pazo-pond...</td>\n",
              "      <td>90.0</td>\n",
              "      <td>Pazo Pondal 2013 Albariño (Rías Baixas)</td>\n",
              "      <td>Alluring, inviting aromas of white flowers, me...</td>\n",
              "      <td>Michael Schachner</td>\n",
              "      <td>17</td>\n",
              "      <td>NaN</td>\n",
              "      <td>Albariño</td>\n",
              "      <td>Rías Baixas, Galicia, Spain</td>\n",
              "      <td>Pazo Pondal</td>\n",
              "      <td>13</td>\n",
              "      <td>750</td>\n",
              "      <td>White</td>\n",
              "      <td>Vinaio Imports</td>\n",
              "      <td>12/1/2014</td>\n",
              "      <td>Not rated yet [Add Your Review]</td>\n",
              "      <td>Spain</td>\n",
              "      <td>7.0</td>\n",
              "    </tr>\n",
              "    <tr>\n",
              "      <th>5</th>\n",
              "      <td>https://www.winemag.com/buying-guide/mumm-napa...</td>\n",
              "      <td>90.0</td>\n",
              "      <td>Mumm Napa 2008 DVX Rosé Sparkling (Napa Valley)</td>\n",
              "      <td>Pretty peach in color, this 50-50 sparkling bl...</td>\n",
              "      <td>Virginie Boone</td>\n",
              "      <td>70</td>\n",
              "      <td>DVX Rosé</td>\n",
              "      <td>Sparkling Blend, Sparkling</td>\n",
              "      <td>Napa Valley, Napa, California, US</td>\n",
              "      <td>Mumm Napa</td>\n",
              "      <td>12.5</td>\n",
              "      <td>750</td>\n",
              "      <td>Sparkling</td>\n",
              "      <td>NaN</td>\n",
              "      <td>12/1/2014</td>\n",
              "      <td>Not rated yet [Add Your Review]</td>\n",
              "      <td>US</td>\n",
              "      <td>7.0</td>\n",
              "    </tr>\n",
              "    <tr>\n",
              "      <th>6</th>\n",
              "      <td>https://www.winemag.com/buying-guide/nuiton-be...</td>\n",
              "      <td>90.0</td>\n",
              "      <td>Nuiton-Beaunoy 2011 Clos du Chapitre Premier C...</td>\n",
              "      <td>The two-acre Clos du Chapitre vineyard is in t...</td>\n",
              "      <td>Roger Voss</td>\n",
              "      <td>N/A</td>\n",
              "      <td>Clos du Chapitre Premier Cru</td>\n",
              "      <td>Pinot Noir</td>\n",
              "      <td>Gevrey-Chambertin, Burgundy, France</td>\n",
              "      <td>Nuiton-Beaunoy</td>\n",
              "      <td>13</td>\n",
              "      <td>750</td>\n",
              "      <td>Red</td>\n",
              "      <td>Fruit of the Vines, Inc</td>\n",
              "      <td>12/1/2014</td>\n",
              "      <td>Not rated yet [Add Your Review]</td>\n",
              "      <td>France</td>\n",
              "      <td>7.0</td>\n",
              "    </tr>\n",
              "    <tr>\n",
              "      <th>7</th>\n",
              "      <td>https://www.winemag.com/buying-guide/trapiche-...</td>\n",
              "      <td>90.0</td>\n",
              "      <td>Trapiche 2012 Broquel Cabernet Sauvignon (Mend...</td>\n",
              "      <td>Spice, licorice and herbal notes complement re...</td>\n",
              "      <td>Michael Schachner</td>\n",
              "      <td>15</td>\n",
              "      <td>Broquel</td>\n",
              "      <td>Cabernet Sauvignon</td>\n",
              "      <td>Mendoza, Mendoza Province, Argentina</td>\n",
              "      <td>Trapiche</td>\n",
              "      <td>14</td>\n",
              "      <td>750</td>\n",
              "      <td>Red</td>\n",
              "      <td>The Wine Group</td>\n",
              "      <td>12/1/2014</td>\n",
              "      <td>Not rated yet [Add Your Review]</td>\n",
              "      <td>Argentina</td>\n",
              "      <td>7.0</td>\n",
              "    </tr>\n",
              "    <tr>\n",
              "      <th>8</th>\n",
              "      <td>https://www.winemag.com/buying-guide/zonin-201...</td>\n",
              "      <td>90.0</td>\n",
              "      <td>Zonin 2010  Amarone della Valpolicella</td>\n",
              "      <td>Full-bodied and fresh, this offfers attractive...</td>\n",
              "      <td>Kerin O’Keefe</td>\n",
              "      <td>50</td>\n",
              "      <td>NaN</td>\n",
              "      <td>Red Blends, Red Blends</td>\n",
              "      <td>Amarone della Valpolicella, Veneto, Italy</td>\n",
              "      <td>Zonin</td>\n",
              "      <td>15</td>\n",
              "      <td>750</td>\n",
              "      <td>Red</td>\n",
              "      <td>Zonin USA</td>\n",
              "      <td>12/1/2014</td>\n",
              "      <td>Not rated yet [Add Your Review]</td>\n",
              "      <td>Italy</td>\n",
              "      <td>7.0</td>\n",
              "    </tr>\n",
              "    <tr>\n",
              "      <th>9</th>\n",
              "      <td>https://www.winemag.com/buying-guide/pali-2012...</td>\n",
              "      <td>90.0</td>\n",
              "      <td>Pali 2012 Cargasacchi Vineyard Pinot Noir (Sta...</td>\n",
              "      <td>Round, savory aromas of orange-cranberry with ...</td>\n",
              "      <td>Matt Kettmann</td>\n",
              "      <td>56</td>\n",
              "      <td>Cargasacchi Vineyard</td>\n",
              "      <td>Pinot Noir</td>\n",
              "      <td>Sta. Rita Hills, Central Coast, California, US</td>\n",
              "      <td>Pali</td>\n",
              "      <td>13.8</td>\n",
              "      <td>750</td>\n",
              "      <td>Red</td>\n",
              "      <td>NaN</td>\n",
              "      <td>12/1/2014</td>\n",
              "      <td>Not rated yet [Add Your Review]</td>\n",
              "      <td>US</td>\n",
              "      <td>7.0</td>\n",
              "    </tr>\n",
              "  </tbody>\n",
              "</table>\n",
              "</div>"
            ],
            "text/plain": [
              "                                                 url  wine_points  \\\n",
              "0  https://www.winemag.com/buying-guide/artadi-20...         90.0   \n",
              "1  https://www.winemag.com/buying-guide/adelsheim...         90.0   \n",
              "2  https://www.winemag.com/buying-guide/adelsheim...         90.0   \n",
              "3  https://www.winemag.com/buying-guide/jcb-2011-...         90.0   \n",
              "4  https://www.winemag.com/buying-guide/pazo-pond...         90.0   \n",
              "5  https://www.winemag.com/buying-guide/mumm-napa...         90.0   \n",
              "6  https://www.winemag.com/buying-guide/nuiton-be...         90.0   \n",
              "7  https://www.winemag.com/buying-guide/trapiche-...         90.0   \n",
              "8  https://www.winemag.com/buying-guide/zonin-201...         90.0   \n",
              "9  https://www.winemag.com/buying-guide/pali-2012...         90.0   \n",
              "\n",
              "                                           wine_name  \\\n",
              "0                 Artadi 2011 Viñas de Gain  (Rioja)   \n",
              "1  Adelsheim 2012 Stoller Vineyard Chardonnay (Du...   \n",
              "2  Adelsheim 2013 Ribbon Springs Vineyard Auxerro...   \n",
              "3          JCB 2011 No. 11 Pinot Noir (Sonoma Coast)   \n",
              "4            Pazo Pondal 2013 Albariño (Rías Baixas)   \n",
              "5    Mumm Napa 2008 DVX Rosé Sparkling (Napa Valley)   \n",
              "6  Nuiton-Beaunoy 2011 Clos du Chapitre Premier C...   \n",
              "7  Trapiche 2012 Broquel Cabernet Sauvignon (Mend...   \n",
              "8             Zonin 2010  Amarone della Valpolicella   \n",
              "9  Pali 2012 Cargasacchi Vineyard Pinot Noir (Sta...   \n",
              "\n",
              "                                           wine_desc             taster  \\\n",
              "0  Inky, minerally aromas of blackberry, black pl...  Michael Schachner   \n",
              "1  A tiny production wine, this is rich, tart and...       Paul Gregutt   \n",
              "2  This is another fine vintage for this rare win...       Paul Gregutt   \n",
              "3  Light in color and lilting floral aromas of ro...     Virginie Boone   \n",
              "4  Alluring, inviting aromas of white flowers, me...  Michael Schachner   \n",
              "5  Pretty peach in color, this 50-50 sparkling bl...     Virginie Boone   \n",
              "6  The two-acre Clos du Chapitre vineyard is in t...         Roger Voss   \n",
              "7  Spice, licorice and herbal notes complement re...  Michael Schachner   \n",
              "8  Full-bodied and fresh, this offfers attractive...      Kerin O’Keefe   \n",
              "9  Round, savory aromas of orange-cranberry with ...      Matt Kettmann   \n",
              "\n",
              "   price                   designation                     variety  \\\n",
              "0   25                   Viñas de Gain                 Tempranillo   \n",
              "1   65                Stoller Vineyard                  Chardonnay   \n",
              "2   25         Ribbon Springs Vineyard      Auxerrois, Other White   \n",
              "3   65                          No. 11                  Pinot Noir   \n",
              "4   17                             NaN                    Albariño   \n",
              "5   70                        DVX Rosé  Sparkling Blend, Sparkling   \n",
              "6  N/A    Clos du Chapitre Premier Cru                  Pinot Noir   \n",
              "7   15                         Broquel          Cabernet Sauvignon   \n",
              "8   50                             NaN      Red Blends, Red Blends   \n",
              "9   56            Cargasacchi Vineyard                  Pinot Noir   \n",
              "\n",
              "                                      appellation          winery alcohol  \\\n",
              "0                    Rioja, Northern Spain, Spain          Artadi    14.5   \n",
              "1     Dundee Hills, Willamette Valley, Oregon, US       Adelsheim    13.5   \n",
              "2     Ribbon Ridge, Willamette Valley, Oregon, US       Adelsheim    13.5   \n",
              "3            Sonoma Coast, Sonoma, California, US             JCB      13   \n",
              "4                     Rías Baixas, Galicia, Spain     Pazo Pondal      13   \n",
              "5               Napa Valley, Napa, California, US       Mumm Napa    12.5   \n",
              "6             Gevrey-Chambertin, Burgundy, France  Nuiton-Beaunoy      13   \n",
              "7            Mendoza, Mendoza Province, Argentina        Trapiche      14   \n",
              "8       Amarone della Valpolicella, Veneto, Italy           Zonin      15   \n",
              "9  Sta. Rita Hills, Central Coast, California, US            Pali    13.8   \n",
              "\n",
              "  bottle size   category                  importer date published  \\\n",
              "0        750         Red  Folio Fine Wine Partners      12/1/2014   \n",
              "1        750       White                       NaN      12/1/2014   \n",
              "2        750       White                       NaN      12/1/2014   \n",
              "3        750         Red                       NaN      12/1/2014   \n",
              "4        750       White            Vinaio Imports      12/1/2014   \n",
              "5        750   Sparkling                       NaN      12/1/2014   \n",
              "6        750         Red   Fruit of the Vines, Inc      12/1/2014   \n",
              "7        750         Red            The Wine Group      12/1/2014   \n",
              "8        750         Red                 Zonin USA      12/1/2014   \n",
              "9        750         Red                       NaN      12/1/2014   \n",
              "\n",
              "                   user avg rating     country  year  \n",
              "0  Not rated yet [Add Your Review]       Spain   7.0  \n",
              "1  Not rated yet [Add Your Review]          US   7.0  \n",
              "2  Not rated yet [Add Your Review]          US   7.0  \n",
              "3  Not rated yet [Add Your Review]          US   7.0  \n",
              "4  Not rated yet [Add Your Review]       Spain   7.0  \n",
              "5  Not rated yet [Add Your Review]          US   7.0  \n",
              "6  Not rated yet [Add Your Review]      France   7.0  \n",
              "7  Not rated yet [Add Your Review]   Argentina   7.0  \n",
              "8  Not rated yet [Add Your Review]       Italy   7.0  \n",
              "9  Not rated yet [Add Your Review]          US   7.0  "
            ]
          },
          "metadata": {
            "tags": []
          },
          "execution_count": 19
        }
      ]
    },
    {
      "cell_type": "code",
      "metadata": {
        "id": "w58T0L5IZokL"
      },
      "source": [
        "\n",
        "df.dropna(how='any', inplace=True)"
      ],
      "execution_count": 23,
      "outputs": []
    },
    {
      "cell_type": "code",
      "metadata": {
        "colab": {
          "base_uri": "https://localhost:8080/"
        },
        "id": "BB27ZVRpZokL",
        "outputId": "04cfb974-5ce4-439f-b336-f728e1c0659c"
      },
      "source": [
        "df.shape"
      ],
      "execution_count": 24,
      "outputs": [
        {
          "output_type": "execute_result",
          "data": {
            "text/plain": [
              "(13318, 18)"
            ]
          },
          "metadata": {
            "tags": []
          },
          "execution_count": 24
        }
      ]
    },
    {
      "cell_type": "code",
      "metadata": {
        "colab": {
          "base_uri": "https://localhost:8080/",
          "height": 1000
        },
        "id": "n-b0eb9sZokL",
        "outputId": "d64f4e65-c41f-4729-9470-fc85102e817a"
      },
      "source": [
        "df.head(10)"
      ],
      "execution_count": 25,
      "outputs": [
        {
          "output_type": "execute_result",
          "data": {
            "text/html": [
              "<div>\n",
              "<style scoped>\n",
              "    .dataframe tbody tr th:only-of-type {\n",
              "        vertical-align: middle;\n",
              "    }\n",
              "\n",
              "    .dataframe tbody tr th {\n",
              "        vertical-align: top;\n",
              "    }\n",
              "\n",
              "    .dataframe thead th {\n",
              "        text-align: right;\n",
              "    }\n",
              "</style>\n",
              "<table border=\"1\" class=\"dataframe\">\n",
              "  <thead>\n",
              "    <tr style=\"text-align: right;\">\n",
              "      <th></th>\n",
              "      <th>url</th>\n",
              "      <th>wine_points</th>\n",
              "      <th>wine_name</th>\n",
              "      <th>wine_desc</th>\n",
              "      <th>taster</th>\n",
              "      <th>price</th>\n",
              "      <th>designation</th>\n",
              "      <th>variety</th>\n",
              "      <th>appellation</th>\n",
              "      <th>winery</th>\n",
              "      <th>alcohol</th>\n",
              "      <th>bottle size</th>\n",
              "      <th>category</th>\n",
              "      <th>importer</th>\n",
              "      <th>date published</th>\n",
              "      <th>user avg rating</th>\n",
              "      <th>country</th>\n",
              "      <th>year</th>\n",
              "    </tr>\n",
              "  </thead>\n",
              "  <tbody>\n",
              "    <tr>\n",
              "      <th>0</th>\n",
              "      <td>https://www.winemag.com/buying-guide/artadi-20...</td>\n",
              "      <td>90.0</td>\n",
              "      <td>Artadi 2011 Viñas de Gain  (Rioja)</td>\n",
              "      <td>Inky, minerally aromas of blackberry, black pl...</td>\n",
              "      <td>Michael Schachner</td>\n",
              "      <td>25</td>\n",
              "      <td>Viñas de Gain</td>\n",
              "      <td>Tempranillo</td>\n",
              "      <td>Rioja, Northern Spain, Spain</td>\n",
              "      <td>Artadi</td>\n",
              "      <td>14.5</td>\n",
              "      <td>750</td>\n",
              "      <td>Red</td>\n",
              "      <td>Folio Fine Wine Partners</td>\n",
              "      <td>12/1/2014</td>\n",
              "      <td>Not rated yet [Add Your Review]</td>\n",
              "      <td>Spain</td>\n",
              "      <td>7.0</td>\n",
              "    </tr>\n",
              "    <tr>\n",
              "      <th>6</th>\n",
              "      <td>https://www.winemag.com/buying-guide/nuiton-be...</td>\n",
              "      <td>90.0</td>\n",
              "      <td>Nuiton-Beaunoy 2011 Clos du Chapitre Premier C...</td>\n",
              "      <td>The two-acre Clos du Chapitre vineyard is in t...</td>\n",
              "      <td>Roger Voss</td>\n",
              "      <td>N/A</td>\n",
              "      <td>Clos du Chapitre Premier Cru</td>\n",
              "      <td>Pinot Noir</td>\n",
              "      <td>Gevrey-Chambertin, Burgundy, France</td>\n",
              "      <td>Nuiton-Beaunoy</td>\n",
              "      <td>13</td>\n",
              "      <td>750</td>\n",
              "      <td>Red</td>\n",
              "      <td>Fruit of the Vines, Inc</td>\n",
              "      <td>12/1/2014</td>\n",
              "      <td>Not rated yet [Add Your Review]</td>\n",
              "      <td>France</td>\n",
              "      <td>7.0</td>\n",
              "    </tr>\n",
              "    <tr>\n",
              "      <th>7</th>\n",
              "      <td>https://www.winemag.com/buying-guide/trapiche-...</td>\n",
              "      <td>90.0</td>\n",
              "      <td>Trapiche 2012 Broquel Cabernet Sauvignon (Mend...</td>\n",
              "      <td>Spice, licorice and herbal notes complement re...</td>\n",
              "      <td>Michael Schachner</td>\n",
              "      <td>15</td>\n",
              "      <td>Broquel</td>\n",
              "      <td>Cabernet Sauvignon</td>\n",
              "      <td>Mendoza, Mendoza Province, Argentina</td>\n",
              "      <td>Trapiche</td>\n",
              "      <td>14</td>\n",
              "      <td>750</td>\n",
              "      <td>Red</td>\n",
              "      <td>The Wine Group</td>\n",
              "      <td>12/1/2014</td>\n",
              "      <td>Not rated yet [Add Your Review]</td>\n",
              "      <td>Argentina</td>\n",
              "      <td>7.0</td>\n",
              "    </tr>\n",
              "    <tr>\n",
              "      <th>10</th>\n",
              "      <td>https://www.winemag.com/buying-guide/peter-nic...</td>\n",
              "      <td>90.0</td>\n",
              "      <td>Peter Nicolay 2012 Erdener Treppchen Feinherb ...</td>\n",
              "      <td>Honey-kissed peaches waft from this ripe, rich...</td>\n",
              "      <td>Anna Lee C. Iijima</td>\n",
              "      <td>20</td>\n",
              "      <td>Erdener Treppchen Feinherb</td>\n",
              "      <td>Riesling</td>\n",
              "      <td>Mosel, Germany</td>\n",
              "      <td>Peter Nicolay</td>\n",
              "      <td>12</td>\n",
              "      <td>750</td>\n",
              "      <td>White</td>\n",
              "      <td>Saranty Imports</td>\n",
              "      <td>12/1/2014</td>\n",
              "      <td>Not rated yet [Add Your Review]</td>\n",
              "      <td>Germany</td>\n",
              "      <td>7.0</td>\n",
              "    </tr>\n",
              "    <tr>\n",
              "      <th>11</th>\n",
              "      <td>https://www.winemag.com/buying-guide/pol-roger...</td>\n",
              "      <td>90.0</td>\n",
              "      <td>Pol Roger NV Réserve Brut  (Champagne)</td>\n",
              "      <td>Full and ripe, this offers balance between ric...</td>\n",
              "      <td>Roger Voss</td>\n",
              "      <td>64</td>\n",
              "      <td>Réserve Brut</td>\n",
              "      <td>Champagne Blend, Sparkling</td>\n",
              "      <td>Champagne, Champagne, France</td>\n",
              "      <td>Pol Roger</td>\n",
              "      <td>12.5</td>\n",
              "      <td>750</td>\n",
              "      <td>Sparkling</td>\n",
              "      <td>Frederick Wildman &amp; Sons, Ltd</td>\n",
              "      <td>12/1/2014</td>\n",
              "      <td>Not rated yet [Add Your Review]</td>\n",
              "      <td>France</td>\n",
              "      <td>7.0</td>\n",
              "    </tr>\n",
              "    <tr>\n",
              "      <th>12</th>\n",
              "      <td>https://www.winemag.com/buying-guide/quinta-pa...</td>\n",
              "      <td>90.0</td>\n",
              "      <td>Quinta de Paços 2013 Casa do Capitão-mor Alvar...</td>\n",
              "      <td>Named after the 13th-century house at the cent...</td>\n",
              "      <td>Roger Voss</td>\n",
              "      <td>18</td>\n",
              "      <td>Casa do Capitão-mor</td>\n",
              "      <td>Alvarinho, Albariño</td>\n",
              "      <td>Vinho Verde, Portugal</td>\n",
              "      <td>Quinta de Paços</td>\n",
              "      <td>13</td>\n",
              "      <td>750</td>\n",
              "      <td>White</td>\n",
              "      <td>Aidil Wines/Old World Import</td>\n",
              "      <td>12/1/2014</td>\n",
              "      <td>Not rated yet [Add Your Review]</td>\n",
              "      <td>Portugal</td>\n",
              "      <td>7.0</td>\n",
              "    </tr>\n",
              "    <tr>\n",
              "      <th>13</th>\n",
              "      <td>https://www.winemag.com/buying-guide/quinta-no...</td>\n",
              "      <td>90.0</td>\n",
              "      <td>Quinta do Noval NV 10-Years-Old Tawny  (Port)</td>\n",
              "      <td>This dry, balanced aged tawny is both fruity a...</td>\n",
              "      <td>Roger Voss</td>\n",
              "      <td>30</td>\n",
              "      <td>10-Years-Old Tawny</td>\n",
              "      <td>Port, Port Blend</td>\n",
              "      <td>Port, Portugal</td>\n",
              "      <td>Quinta do Noval</td>\n",
              "      <td>20</td>\n",
              "      <td>750</td>\n",
              "      <td>Port/Sherry</td>\n",
              "      <td>Vintus LLC</td>\n",
              "      <td>12/1/2014</td>\n",
              "      <td>Not rated yet [Add Your Review]</td>\n",
              "      <td>Portugal</td>\n",
              "      <td>7.0</td>\n",
              "    </tr>\n",
              "    <tr>\n",
              "      <th>15</th>\n",
              "      <td>https://www.winemag.com/buying-guide/maso-mart...</td>\n",
              "      <td>90.0</td>\n",
              "      <td>Maso Martis 2007 Brut Riserva Sparkling (Trento)</td>\n",
              "      <td>A blend of 70% Pinot Nero and 30% Chardonnay, ...</td>\n",
              "      <td>Kerin O’Keefe</td>\n",
              "      <td>52</td>\n",
              "      <td>Brut Riserva</td>\n",
              "      <td>Sparkling Blend, Sparkling</td>\n",
              "      <td>Trento, Northeastern Italy, Italy</td>\n",
              "      <td>Maso Martis</td>\n",
              "      <td>12.5</td>\n",
              "      <td>750</td>\n",
              "      <td>Sparkling</td>\n",
              "      <td>Solstars</td>\n",
              "      <td>12/1/2014</td>\n",
              "      <td>Not rated yet [Add Your Review]</td>\n",
              "      <td>Italy</td>\n",
              "      <td>7.0</td>\n",
              "    </tr>\n",
              "    <tr>\n",
              "      <th>16</th>\n",
              "      <td>https://www.winemag.com/buying-guide/maso-mart...</td>\n",
              "      <td>90.0</td>\n",
              "      <td>Maso Martis 2009 Dosaggiozero Riserva Sparklin...</td>\n",
              "      <td>Made with no dosage, this is a blend of 70% Ch...</td>\n",
              "      <td>Kerin O’Keefe</td>\n",
              "      <td>52</td>\n",
              "      <td>Dosaggiozero Riserva</td>\n",
              "      <td>Sparkling Blend, Sparkling</td>\n",
              "      <td>Trento, Northeastern Italy, Italy</td>\n",
              "      <td>Maso Martis</td>\n",
              "      <td>12.5</td>\n",
              "      <td>750</td>\n",
              "      <td>Sparkling</td>\n",
              "      <td>Solstars</td>\n",
              "      <td>12/1/2014</td>\n",
              "      <td>Not rated yet [Add Your Review]</td>\n",
              "      <td>Italy</td>\n",
              "      <td>7.0</td>\n",
              "    </tr>\n",
              "    <tr>\n",
              "      <th>17</th>\n",
              "      <td>https://www.winemag.com/buying-guide/maximin-g...</td>\n",
              "      <td>90.0</td>\n",
              "      <td>Maximin Grünhäuser 2012 Herrenberg Kabinett Ri...</td>\n",
              "      <td>Dried oregano and sage notes lend a dusty, sav...</td>\n",
              "      <td>Anna Lee C. Iijima</td>\n",
              "      <td>34</td>\n",
              "      <td>Herrenberg Kabinett</td>\n",
              "      <td>Riesling</td>\n",
              "      <td>Mosel, Germany</td>\n",
              "      <td>Maximin Grünhäuser</td>\n",
              "      <td>8</td>\n",
              "      <td>750</td>\n",
              "      <td>White</td>\n",
              "      <td>Loosen Bros. USA</td>\n",
              "      <td>12/1/2014</td>\n",
              "      <td>Not rated yet [Add Your Review]</td>\n",
              "      <td>Germany</td>\n",
              "      <td>7.0</td>\n",
              "    </tr>\n",
              "  </tbody>\n",
              "</table>\n",
              "</div>"
            ],
            "text/plain": [
              "                                                  url  wine_points  \\\n",
              "0   https://www.winemag.com/buying-guide/artadi-20...         90.0   \n",
              "6   https://www.winemag.com/buying-guide/nuiton-be...         90.0   \n",
              "7   https://www.winemag.com/buying-guide/trapiche-...         90.0   \n",
              "10  https://www.winemag.com/buying-guide/peter-nic...         90.0   \n",
              "11  https://www.winemag.com/buying-guide/pol-roger...         90.0   \n",
              "12  https://www.winemag.com/buying-guide/quinta-pa...         90.0   \n",
              "13  https://www.winemag.com/buying-guide/quinta-no...         90.0   \n",
              "15  https://www.winemag.com/buying-guide/maso-mart...         90.0   \n",
              "16  https://www.winemag.com/buying-guide/maso-mart...         90.0   \n",
              "17  https://www.winemag.com/buying-guide/maximin-g...         90.0   \n",
              "\n",
              "                                            wine_name  \\\n",
              "0                  Artadi 2011 Viñas de Gain  (Rioja)   \n",
              "6   Nuiton-Beaunoy 2011 Clos du Chapitre Premier C...   \n",
              "7   Trapiche 2012 Broquel Cabernet Sauvignon (Mend...   \n",
              "10  Peter Nicolay 2012 Erdener Treppchen Feinherb ...   \n",
              "11             Pol Roger NV Réserve Brut  (Champagne)   \n",
              "12  Quinta de Paços 2013 Casa do Capitão-mor Alvar...   \n",
              "13      Quinta do Noval NV 10-Years-Old Tawny  (Port)   \n",
              "15   Maso Martis 2007 Brut Riserva Sparkling (Trento)   \n",
              "16  Maso Martis 2009 Dosaggiozero Riserva Sparklin...   \n",
              "17  Maximin Grünhäuser 2012 Herrenberg Kabinett Ri...   \n",
              "\n",
              "                                            wine_desc              taster  \\\n",
              "0   Inky, minerally aromas of blackberry, black pl...   Michael Schachner   \n",
              "6   The two-acre Clos du Chapitre vineyard is in t...          Roger Voss   \n",
              "7   Spice, licorice and herbal notes complement re...   Michael Schachner   \n",
              "10  Honey-kissed peaches waft from this ripe, rich...  Anna Lee C. Iijima   \n",
              "11  Full and ripe, this offers balance between ric...          Roger Voss   \n",
              "12  Named after the 13th-century house at the cent...          Roger Voss   \n",
              "13  This dry, balanced aged tawny is both fruity a...          Roger Voss   \n",
              "15  A blend of 70% Pinot Nero and 30% Chardonnay, ...       Kerin O’Keefe   \n",
              "16  Made with no dosage, this is a blend of 70% Ch...       Kerin O’Keefe   \n",
              "17  Dried oregano and sage notes lend a dusty, sav...  Anna Lee C. Iijima   \n",
              "\n",
              "    price                   designation                     variety  \\\n",
              "0    25                   Viñas de Gain                 Tempranillo   \n",
              "6   N/A    Clos du Chapitre Premier Cru                  Pinot Noir   \n",
              "7    15                         Broquel          Cabernet Sauvignon   \n",
              "10   20      Erdener Treppchen Feinherb                    Riesling   \n",
              "11   64                    Réserve Brut  Champagne Blend, Sparkling   \n",
              "12   18             Casa do Capitão-mor         Alvarinho, Albariño   \n",
              "13   30              10-Years-Old Tawny            Port, Port Blend   \n",
              "15   52                    Brut Riserva  Sparkling Blend, Sparkling   \n",
              "16   52            Dosaggiozero Riserva  Sparkling Blend, Sparkling   \n",
              "17   34             Herrenberg Kabinett                    Riesling   \n",
              "\n",
              "                             appellation              winery alcohol  \\\n",
              "0           Rioja, Northern Spain, Spain              Artadi    14.5   \n",
              "6    Gevrey-Chambertin, Burgundy, France      Nuiton-Beaunoy      13   \n",
              "7   Mendoza, Mendoza Province, Argentina            Trapiche      14   \n",
              "10                        Mosel, Germany       Peter Nicolay      12   \n",
              "11          Champagne, Champagne, France           Pol Roger    12.5   \n",
              "12                 Vinho Verde, Portugal     Quinta de Paços      13   \n",
              "13                        Port, Portugal     Quinta do Noval      20   \n",
              "15     Trento, Northeastern Italy, Italy         Maso Martis    12.5   \n",
              "16     Trento, Northeastern Italy, Italy         Maso Martis    12.5   \n",
              "17                        Mosel, Germany  Maximin Grünhäuser       8   \n",
              "\n",
              "   bottle size     category                       importer date published  \\\n",
              "0         750           Red       Folio Fine Wine Partners      12/1/2014   \n",
              "6         750           Red        Fruit of the Vines, Inc      12/1/2014   \n",
              "7         750           Red                 The Wine Group      12/1/2014   \n",
              "10        750         White                Saranty Imports      12/1/2014   \n",
              "11        750     Sparkling  Frederick Wildman & Sons, Ltd      12/1/2014   \n",
              "12        750         White   Aidil Wines/Old World Import      12/1/2014   \n",
              "13        750   Port/Sherry                     Vintus LLC      12/1/2014   \n",
              "15        750     Sparkling                       Solstars      12/1/2014   \n",
              "16        750     Sparkling                       Solstars      12/1/2014   \n",
              "17        750         White               Loosen Bros. USA      12/1/2014   \n",
              "\n",
              "                    user avg rating     country  year  \n",
              "0   Not rated yet [Add Your Review]       Spain   7.0  \n",
              "6   Not rated yet [Add Your Review]      France   7.0  \n",
              "7   Not rated yet [Add Your Review]   Argentina   7.0  \n",
              "10  Not rated yet [Add Your Review]     Germany   7.0  \n",
              "11  Not rated yet [Add Your Review]      France   7.0  \n",
              "12  Not rated yet [Add Your Review]    Portugal   7.0  \n",
              "13  Not rated yet [Add Your Review]    Portugal   7.0  \n",
              "15  Not rated yet [Add Your Review]       Italy   7.0  \n",
              "16  Not rated yet [Add Your Review]       Italy   7.0  \n",
              "17  Not rated yet [Add Your Review]     Germany   7.0  "
            ]
          },
          "metadata": {
            "tags": []
          },
          "execution_count": 25
        }
      ]
    },
    {
      "cell_type": "code",
      "metadata": {
        "id": "wopkQ_iAZokL"
      },
      "source": [
        "# df.dtypes"
      ],
      "execution_count": 26,
      "outputs": []
    },
    {
      "cell_type": "markdown",
      "metadata": {
        "id": "yfOtWwSAZokL"
      },
      "source": [
        "## What might be interesting in this dataset?\n",
        "\n",
        "Maybe start out playing around _without_ machine learning. Here are some thoughts to get you started:\n",
        "\n",
        "* I've heard that since the 90's wine has gone through [Parkerization](https://www.estatewinebrokers.com/blog/the-parkerization-of-wine-in-the-1990s-and-beyond/), an increase in production of high-alcohol, fruity red wines thanks to the influence of wine critic Robert Parker.\n",
        "* Red and white wines taste different, obviously, but people always use [goofy words to describe them](https://winefolly.com/tutorial/40-wine-descriptions/)\n",
        "* Once upon a time in 1976 [California wines proved themselves against France](https://en.wikipedia.org/wiki/Judgment_of_Paris_(wine)) and France got very angry about it"
      ]
    },
    {
      "cell_type": "code",
      "metadata": {
        "id": "UNeoV6kDZokL"
      },
      "source": [
        "# whether a wine is white or red based on the wine's description"
      ],
      "execution_count": 27,
      "outputs": []
    },
    {
      "cell_type": "code",
      "metadata": {
        "id": "x1OPM0YLZokL"
      },
      "source": [
        "#whether alcohol content depends on country of origin"
      ],
      "execution_count": 28,
      "outputs": []
    },
    {
      "cell_type": "code",
      "metadata": {
        "id": "Rrd_LBMfZokL"
      },
      "source": [
        "# finding out correlation between wine_points and price"
      ],
      "execution_count": 29,
      "outputs": []
    },
    {
      "cell_type": "code",
      "metadata": {
        "id": "xS3RFL4ZZokL"
      },
      "source": [
        "# finding out correlation between wine_points and wine desc"
      ],
      "execution_count": 30,
      "outputs": []
    },
    {
      "cell_type": "code",
      "metadata": {
        "id": "lRPIdpZXZokL"
      },
      "source": [
        "# finding out correlation between wine_points and variety"
      ],
      "execution_count": 31,
      "outputs": []
    },
    {
      "cell_type": "code",
      "metadata": {
        "id": "OI_HkKnzZokM"
      },
      "source": [
        "# finding out correlation between wine desc and category"
      ],
      "execution_count": 32,
      "outputs": []
    },
    {
      "cell_type": "code",
      "metadata": {
        "id": "KTuLBs0OZokM"
      },
      "source": [
        "# finding out correlation between variety and country"
      ],
      "execution_count": 33,
      "outputs": []
    },
    {
      "cell_type": "markdown",
      "metadata": {
        "id": "OVEuXED-ZokM"
      },
      "source": [
        "## But machine learning?\n",
        "\n",
        "Well, you can usually break machine learning down into a few different things. These aren't necessarily perfect ways of categorizing things, but eh, close enough.\n",
        "\n",
        "* **Predicting a number**\n",
        "    - Linear regression\n",
        "    - For example, how does a change in unemployment translate into a change in life expectancy?\n",
        "* **Predicting a category** (aka classification)\n",
        "    - Lots of algos options: logistic regression, random forest, etc\n",
        "    - For example, predicting cuisines based on ingredients\n",
        "* **Seeing what influences a numeric outcome**\n",
        "    - Linear regression since the output is a number\n",
        "    - For example, minority and poverty status on test scores \n",
        "* **Seeing what influences a categorical outcome**\n",
        "    - Logistic regression since the output is a category\n",
        "    - Race and car speed for if you get a waring vs ticket\n",
        "    - Wet/dry pavement and car weight if you survive or not in a car crash)\n",
        "\n",
        "We have numbers, we have categories, we have all sorts of stuff. **What are some ways we can mash them together and use machine learning?**\n",
        "\n",
        "### Brainstorm some ideas\n",
        "\n",
        "Use the categories above to try to come up with some ideas. Be sure to scroll up where I break down categories vs numbers vs text!\n",
        "\n",
        "**I'll give you one idea for free:** if you don't have any ideas, start off by creating a classifier that determines whether a wine is white or red based on the wine's description."
      ]
    },
    {
      "cell_type": "code",
      "metadata": {
        "id": "acAgZwAXZokM"
      },
      "source": [
        "# Linear regression - how does the price affect wine ratings?"
      ],
      "execution_count": 34,
      "outputs": []
    },
    {
      "cell_type": "code",
      "metadata": {
        "id": "tkIWPfnzZokM"
      },
      "source": [
        "# Predicting a category - predicting wine category based on wine description "
      ],
      "execution_count": 35,
      "outputs": []
    },
    {
      "cell_type": "code",
      "metadata": {
        "id": "D64UbLqWZokM"
      },
      "source": [
        "# Seeing what influences a numeric outcome - \n",
        "# country and variety on ratings"
      ],
      "execution_count": 36,
      "outputs": []
    },
    {
      "cell_type": "markdown",
      "metadata": {
        "id": "-Tn3N-AmZokM"
      },
      "source": [
        "You can also go to https://library.columbia.edu and see if you can find some academic papers about wine. I'm sure they'll inspire you! (and they might even have some ML ideas in them you can steal, too)"
      ]
    },
    {
      "cell_type": "markdown",
      "metadata": {
        "id": "qar2iiitZokM"
      },
      "source": [
        "# Implement 2 of your machine learning ideas"
      ]
    },
    {
      "cell_type": "markdown",
      "metadata": {
        "id": "qx8OS4Z4ZokM"
      },
      "source": [
        "## IDEA 1: Linear regression - how does the year affect wine ratings?"
      ]
    },
    {
      "cell_type": "code",
      "metadata": {
        "id": "PlR3TJtdZokM"
      },
      "source": [
        "df_LR = df[['year', 'wine_points']]"
      ],
      "execution_count": null,
      "outputs": []
    },
    {
      "cell_type": "code",
      "metadata": {
        "id": "-pMnmC2RZokN",
        "outputId": "305b3635-0f16-4492-9ab5-429c786c2de2"
      },
      "source": [
        "df_LR.head()"
      ],
      "execution_count": null,
      "outputs": [
        {
          "output_type": "execute_result",
          "data": {
            "text/html": [
              "<div>\n",
              "<style scoped>\n",
              "    .dataframe tbody tr th:only-of-type {\n",
              "        vertical-align: middle;\n",
              "    }\n",
              "\n",
              "    .dataframe tbody tr th {\n",
              "        vertical-align: top;\n",
              "    }\n",
              "\n",
              "    .dataframe thead th {\n",
              "        text-align: right;\n",
              "    }\n",
              "</style>\n",
              "<table border=\"1\" class=\"dataframe\">\n",
              "  <thead>\n",
              "    <tr style=\"text-align: right;\">\n",
              "      <th></th>\n",
              "      <th>year</th>\n",
              "      <th>wine_points</th>\n",
              "    </tr>\n",
              "  </thead>\n",
              "  <tbody>\n",
              "    <tr>\n",
              "      <th>0</th>\n",
              "      <td>7.0</td>\n",
              "      <td>90.0</td>\n",
              "    </tr>\n",
              "    <tr>\n",
              "      <th>6</th>\n",
              "      <td>7.0</td>\n",
              "      <td>90.0</td>\n",
              "    </tr>\n",
              "    <tr>\n",
              "      <th>7</th>\n",
              "      <td>7.0</td>\n",
              "      <td>90.0</td>\n",
              "    </tr>\n",
              "    <tr>\n",
              "      <th>10</th>\n",
              "      <td>7.0</td>\n",
              "      <td>90.0</td>\n",
              "    </tr>\n",
              "    <tr>\n",
              "      <th>11</th>\n",
              "      <td>7.0</td>\n",
              "      <td>90.0</td>\n",
              "    </tr>\n",
              "  </tbody>\n",
              "</table>\n",
              "</div>"
            ],
            "text/plain": [
              "    year  wine_points\n",
              "0    7.0         90.0\n",
              "6    7.0         90.0\n",
              "7    7.0         90.0\n",
              "10   7.0         90.0\n",
              "11   7.0         90.0"
            ]
          },
          "metadata": {
            "tags": []
          },
          "execution_count": 30
        }
      ]
    },
    {
      "cell_type": "code",
      "metadata": {
        "id": "lzE64vBkZokN",
        "outputId": "71e8e271-25df-45a1-d214-a9b383e1ad80"
      },
      "source": [
        "df_LR.isna().sum()"
      ],
      "execution_count": null,
      "outputs": [
        {
          "output_type": "execute_result",
          "data": {
            "text/plain": [
              "year           0\n",
              "wine_points    0\n",
              "dtype: int64"
            ]
          },
          "metadata": {
            "tags": []
          },
          "execution_count": 31
        }
      ]
    },
    {
      "cell_type": "code",
      "metadata": {
        "id": "Q5Yr00LdZokN",
        "outputId": "61690008-a3e1-411a-ea10-024e9e96be5a"
      },
      "source": [
        "df_LR.dtypes"
      ],
      "execution_count": null,
      "outputs": [
        {
          "output_type": "execute_result",
          "data": {
            "text/plain": [
              "year           float64\n",
              "wine_points    float64\n",
              "dtype: object"
            ]
          },
          "metadata": {
            "tags": []
          },
          "execution_count": 32
        }
      ]
    },
    {
      "cell_type": "code",
      "metadata": {
        "id": "ww2k4Y-_ZokN",
        "outputId": "a76f02a8-295b-4683-a3f1-1949e1ba0f53"
      },
      "source": [
        "df_LR.year = df_LR.year.astype(float)"
      ],
      "execution_count": null,
      "outputs": [
        {
          "output_type": "stream",
          "text": [
            "C:\\Users\\kanin\\AppData\\Local\\Programs\\Python\\Python38\\lib\\site-packages\\pandas\\core\\generic.py:5168: SettingWithCopyWarning: \n",
            "A value is trying to be set on a copy of a slice from a DataFrame.\n",
            "Try using .loc[row_indexer,col_indexer] = value instead\n",
            "\n",
            "See the caveats in the documentation: https://pandas.pydata.org/pandas-docs/stable/user_guide/indexing.html#returning-a-view-versus-a-copy\n",
            "  self[name] = value\n"
          ],
          "name": "stderr"
        }
      ]
    },
    {
      "cell_type": "code",
      "metadata": {
        "id": "8nDMSt7TZokN"
      },
      "source": [
        "import statsmodels.api as sm\n",
        "\n",
        "# What effect does the year have on ratings?\n",
        "X = df_LR[['year']]\n",
        "y = df_LR.wine_points\n",
        "\n",
        "model = sm.OLS(y, sm.add_constant(X))\n",
        "results = model.fit()"
      ],
      "execution_count": null,
      "outputs": []
    },
    {
      "cell_type": "code",
      "metadata": {
        "id": "rwKkXIpDZokN",
        "outputId": "e8ed7c0e-6998-4390-8a49-fc6bf5760c6b"
      },
      "source": [
        "results.params"
      ],
      "execution_count": null,
      "outputs": [
        {
          "output_type": "execute_result",
          "data": {
            "text/plain": [
              "const    90.725928\n",
              "year     -0.210720\n",
              "dtype: float64"
            ]
          },
          "metadata": {
            "tags": []
          },
          "execution_count": 35
        }
      ]
    },
    {
      "cell_type": "code",
      "metadata": {
        "id": "G8DeiRkOZokO",
        "outputId": "9b8e2c3b-1bd2-49b1-9697-0998b915448a"
      },
      "source": [
        "results.summary()"
      ],
      "execution_count": null,
      "outputs": [
        {
          "output_type": "execute_result",
          "data": {
            "text/html": [
              "<table class=\"simpletable\">\n",
              "<caption>OLS Regression Results</caption>\n",
              "<tr>\n",
              "  <th>Dep. Variable:</th>       <td>wine_points</td>   <th>  R-squared:         </th> <td>   0.068</td> \n",
              "</tr>\n",
              "<tr>\n",
              "  <th>Model:</th>                   <td>OLS</td>       <th>  Adj. R-squared:    </th> <td>   0.068</td> \n",
              "</tr>\n",
              "<tr>\n",
              "  <th>Method:</th>             <td>Least Squares</td>  <th>  F-statistic:       </th> <td>   975.3</td> \n",
              "</tr>\n",
              "<tr>\n",
              "  <th>Date:</th>             <td>Thu, 01 Apr 2021</td> <th>  Prob (F-statistic):</th> <td>1.08e-206</td>\n",
              "</tr>\n",
              "<tr>\n",
              "  <th>Time:</th>                 <td>21:53:45</td>     <th>  Log-Likelihood:    </th> <td> -34334.</td> \n",
              "</tr>\n",
              "<tr>\n",
              "  <th>No. Observations:</th>      <td> 13318</td>      <th>  AIC:               </th> <td>6.867e+04</td>\n",
              "</tr>\n",
              "<tr>\n",
              "  <th>Df Residuals:</th>          <td> 13316</td>      <th>  BIC:               </th> <td>6.869e+04</td>\n",
              "</tr>\n",
              "<tr>\n",
              "  <th>Df Model:</th>              <td>     1</td>      <th>                     </th>     <td> </td>    \n",
              "</tr>\n",
              "<tr>\n",
              "  <th>Covariance Type:</th>      <td>nonrobust</td>    <th>                     </th>     <td> </td>    \n",
              "</tr>\n",
              "</table>\n",
              "<table class=\"simpletable\">\n",
              "<tr>\n",
              "    <td></td>       <th>coef</th>     <th>std err</th>      <th>t</th>      <th>P>|t|</th>  <th>[0.025</th>    <th>0.975]</th>  \n",
              "</tr>\n",
              "<tr>\n",
              "  <th>const</th> <td>   90.7259</td> <td>    0.064</td> <td> 1412.621</td> <td> 0.000</td> <td>   90.600</td> <td>   90.852</td>\n",
              "</tr>\n",
              "<tr>\n",
              "  <th>year</th>  <td>   -0.2107</td> <td>    0.007</td> <td>  -31.230</td> <td> 0.000</td> <td>   -0.224</td> <td>   -0.197</td>\n",
              "</tr>\n",
              "</table>\n",
              "<table class=\"simpletable\">\n",
              "<tr>\n",
              "  <th>Omnibus:</th>       <td>220.820</td> <th>  Durbin-Watson:     </th> <td>   0.381</td>\n",
              "</tr>\n",
              "<tr>\n",
              "  <th>Prob(Omnibus):</th> <td> 0.000</td>  <th>  Jarque-Bera (JB):  </th> <td> 204.689</td>\n",
              "</tr>\n",
              "<tr>\n",
              "  <th>Skew:</th>          <td>-0.262</td>  <th>  Prob(JB):          </th> <td>3.57e-45</td>\n",
              "</tr>\n",
              "<tr>\n",
              "  <th>Kurtosis:</th>      <td> 2.693</td>  <th>  Cond. No.          </th> <td>    22.3</td>\n",
              "</tr>\n",
              "</table><br/><br/>Notes:<br/>[1] Standard Errors assume that the covariance matrix of the errors is correctly specified."
            ],
            "text/plain": [
              "<class 'statsmodels.iolib.summary.Summary'>\n",
              "\"\"\"\n",
              "                            OLS Regression Results                            \n",
              "==============================================================================\n",
              "Dep. Variable:            wine_points   R-squared:                       0.068\n",
              "Model:                            OLS   Adj. R-squared:                  0.068\n",
              "Method:                 Least Squares   F-statistic:                     975.3\n",
              "Date:                Thu, 01 Apr 2021   Prob (F-statistic):          1.08e-206\n",
              "Time:                        21:53:45   Log-Likelihood:                -34334.\n",
              "No. Observations:               13318   AIC:                         6.867e+04\n",
              "Df Residuals:                   13316   BIC:                         6.869e+04\n",
              "Df Model:                           1                                         \n",
              "Covariance Type:            nonrobust                                         \n",
              "==============================================================================\n",
              "                 coef    std err          t      P>|t|      [0.025      0.975]\n",
              "------------------------------------------------------------------------------\n",
              "const         90.7259      0.064   1412.621      0.000      90.600      90.852\n",
              "year          -0.2107      0.007    -31.230      0.000      -0.224      -0.197\n",
              "==============================================================================\n",
              "Omnibus:                      220.820   Durbin-Watson:                   0.381\n",
              "Prob(Omnibus):                  0.000   Jarque-Bera (JB):              204.689\n",
              "Skew:                          -0.262   Prob(JB):                     3.57e-45\n",
              "Kurtosis:                       2.693   Cond. No.                         22.3\n",
              "==============================================================================\n",
              "\n",
              "Notes:\n",
              "[1] Standard Errors assume that the covariance matrix of the errors is correctly specified.\n",
              "\"\"\""
            ]
          },
          "metadata": {
            "tags": []
          },
          "execution_count": 36
        }
      ]
    },
    {
      "cell_type": "code",
      "metadata": {
        "id": "QbsbroxkZokO"
      },
      "source": [
        "# ANALYSIS\n",
        "# For every \"year\" a wine ages, it gets 0.15 less \"points\"\n",
        "# I'm guessing that's b/c older wine tends to be more expensive\n"
      ],
      "execution_count": null,
      "outputs": []
    },
    {
      "cell_type": "code",
      "metadata": {
        "id": "ePR2o8rrZokO",
        "outputId": "85886dca-81f5-4712-dd97-181e5f5f433a"
      },
      "source": [
        "import statsmodels.formula.api as smf\n",
        "import numpy as np\n",
        "\n",
        "model = smf.ols(formula='wine_points ~ np.multiply(year, 100)', data=df_LR)\n",
        "results = model.fit()\n",
        "results.summary()"
      ],
      "execution_count": null,
      "outputs": [
        {
          "output_type": "execute_result",
          "data": {
            "text/html": [
              "<table class=\"simpletable\">\n",
              "<caption>OLS Regression Results</caption>\n",
              "<tr>\n",
              "  <th>Dep. Variable:</th>       <td>wine_points</td>   <th>  R-squared:         </th> <td>   0.068</td> \n",
              "</tr>\n",
              "<tr>\n",
              "  <th>Model:</th>                   <td>OLS</td>       <th>  Adj. R-squared:    </th> <td>   0.068</td> \n",
              "</tr>\n",
              "<tr>\n",
              "  <th>Method:</th>             <td>Least Squares</td>  <th>  F-statistic:       </th> <td>   975.3</td> \n",
              "</tr>\n",
              "<tr>\n",
              "  <th>Date:</th>             <td>Thu, 01 Apr 2021</td> <th>  Prob (F-statistic):</th> <td>1.08e-206</td>\n",
              "</tr>\n",
              "<tr>\n",
              "  <th>Time:</th>                 <td>21:53:45</td>     <th>  Log-Likelihood:    </th> <td> -34334.</td> \n",
              "</tr>\n",
              "<tr>\n",
              "  <th>No. Observations:</th>      <td> 13318</td>      <th>  AIC:               </th> <td>6.867e+04</td>\n",
              "</tr>\n",
              "<tr>\n",
              "  <th>Df Residuals:</th>          <td> 13316</td>      <th>  BIC:               </th> <td>6.869e+04</td>\n",
              "</tr>\n",
              "<tr>\n",
              "  <th>Df Model:</th>              <td>     1</td>      <th>                     </th>     <td> </td>    \n",
              "</tr>\n",
              "<tr>\n",
              "  <th>Covariance Type:</th>      <td>nonrobust</td>    <th>                     </th>     <td> </td>    \n",
              "</tr>\n",
              "</table>\n",
              "<table class=\"simpletable\">\n",
              "<tr>\n",
              "             <td></td>               <th>coef</th>     <th>std err</th>      <th>t</th>      <th>P>|t|</th>  <th>[0.025</th>    <th>0.975]</th>  \n",
              "</tr>\n",
              "<tr>\n",
              "  <th>Intercept</th>              <td>   90.7259</td> <td>    0.064</td> <td> 1412.621</td> <td> 0.000</td> <td>   90.600</td> <td>   90.852</td>\n",
              "</tr>\n",
              "<tr>\n",
              "  <th>np.multiply(year, 100)</th> <td>   -0.0021</td> <td> 6.75e-05</td> <td>  -31.230</td> <td> 0.000</td> <td>   -0.002</td> <td>   -0.002</td>\n",
              "</tr>\n",
              "</table>\n",
              "<table class=\"simpletable\">\n",
              "<tr>\n",
              "  <th>Omnibus:</th>       <td>220.820</td> <th>  Durbin-Watson:     </th> <td>   0.381</td>\n",
              "</tr>\n",
              "<tr>\n",
              "  <th>Prob(Omnibus):</th> <td> 0.000</td>  <th>  Jarque-Bera (JB):  </th> <td> 204.689</td>\n",
              "</tr>\n",
              "<tr>\n",
              "  <th>Skew:</th>          <td>-0.262</td>  <th>  Prob(JB):          </th> <td>3.57e-45</td>\n",
              "</tr>\n",
              "<tr>\n",
              "  <th>Kurtosis:</th>      <td> 2.693</td>  <th>  Cond. No.          </th> <td>2.21e+03</td>\n",
              "</tr>\n",
              "</table><br/><br/>Notes:<br/>[1] Standard Errors assume that the covariance matrix of the errors is correctly specified.<br/>[2] The condition number is large, 2.21e+03. This might indicate that there are<br/>strong multicollinearity or other numerical problems."
            ],
            "text/plain": [
              "<class 'statsmodels.iolib.summary.Summary'>\n",
              "\"\"\"\n",
              "                            OLS Regression Results                            \n",
              "==============================================================================\n",
              "Dep. Variable:            wine_points   R-squared:                       0.068\n",
              "Model:                            OLS   Adj. R-squared:                  0.068\n",
              "Method:                 Least Squares   F-statistic:                     975.3\n",
              "Date:                Thu, 01 Apr 2021   Prob (F-statistic):          1.08e-206\n",
              "Time:                        21:53:45   Log-Likelihood:                -34334.\n",
              "No. Observations:               13318   AIC:                         6.867e+04\n",
              "Df Residuals:                   13316   BIC:                         6.869e+04\n",
              "Df Model:                           1                                         \n",
              "Covariance Type:            nonrobust                                         \n",
              "==========================================================================================\n",
              "                             coef    std err          t      P>|t|      [0.025      0.975]\n",
              "------------------------------------------------------------------------------------------\n",
              "Intercept                 90.7259      0.064   1412.621      0.000      90.600      90.852\n",
              "np.multiply(year, 100)    -0.0021   6.75e-05    -31.230      0.000      -0.002      -0.002\n",
              "==============================================================================\n",
              "Omnibus:                      220.820   Durbin-Watson:                   0.381\n",
              "Prob(Omnibus):                  0.000   Jarque-Bera (JB):              204.689\n",
              "Skew:                          -0.262   Prob(JB):                     3.57e-45\n",
              "Kurtosis:                       2.693   Cond. No.                     2.21e+03\n",
              "==============================================================================\n",
              "\n",
              "Notes:\n",
              "[1] Standard Errors assume that the covariance matrix of the errors is correctly specified.\n",
              "[2] The condition number is large, 2.21e+03. This might indicate that there are\n",
              "strong multicollinearity or other numerical problems.\n",
              "\"\"\""
            ]
          },
          "metadata": {
            "tags": []
          },
          "execution_count": 38
        }
      ]
    },
    {
      "cell_type": "code",
      "metadata": {
        "id": "6xgWskNMZokO"
      },
      "source": [
        ""
      ],
      "execution_count": null,
      "outputs": []
    },
    {
      "cell_type": "markdown",
      "metadata": {
        "id": "pnQRPAmOZokO"
      },
      "source": [
        "## IDEA 2: Predicting a category - predicting wine category based on wine description "
      ]
    },
    {
      "cell_type": "code",
      "metadata": {
        "id": "Qq3LRNnDZokO"
      },
      "source": [
        "df_P = df[['wine_desc', 'category']]"
      ],
      "execution_count": 37,
      "outputs": []
    },
    {
      "cell_type": "code",
      "metadata": {
        "id": "WKf3CGXzZokO"
      },
      "source": [
        "from sklearn.feature_extraction.text import CountVectorizer\n",
        "\n",
        "# Make a vectorizer\n",
        "vectorizer = CountVectorizer()\n",
        "\n",
        "# Learn and count the words in df.content\n",
        "matrix = vectorizer.fit_transform(df_P.wine_desc)\n",
        "\n",
        "# Convert the matrix of counts to a dataframe\n",
        "words_df = pd.DataFrame(matrix.toarray(),\n",
        "                        columns=vectorizer.get_feature_names())"
      ],
      "execution_count": 38,
      "outputs": []
    },
    {
      "cell_type": "code",
      "metadata": {
        "colab": {
          "base_uri": "https://localhost:8080/",
          "height": 129
        },
        "id": "2_NYVFbxZokO",
        "outputId": "97f18e3b-9e4d-4c5b-c2c0-3861348d1d07"
      },
      "source": [
        "words_df.head(1)"
      ],
      "execution_count": 39,
      "outputs": [
        {
          "output_type": "execute_result",
          "data": {
            "text/html": [
              "<div>\n",
              "<style scoped>\n",
              "    .dataframe tbody tr th:only-of-type {\n",
              "        vertical-align: middle;\n",
              "    }\n",
              "\n",
              "    .dataframe tbody tr th {\n",
              "        vertical-align: top;\n",
              "    }\n",
              "\n",
              "    .dataframe thead th {\n",
              "        text-align: right;\n",
              "    }\n",
              "</style>\n",
              "<table border=\"1\" class=\"dataframe\">\n",
              "  <thead>\n",
              "    <tr style=\"text-align: right;\">\n",
              "      <th></th>\n",
              "      <th>000</th>\n",
              "      <th>01</th>\n",
              "      <th>02</th>\n",
              "      <th>02s</th>\n",
              "      <th>04</th>\n",
              "      <th>05</th>\n",
              "      <th>06</th>\n",
              "      <th>06s</th>\n",
              "      <th>07</th>\n",
              "      <th>08</th>\n",
              "      <th>09</th>\n",
              "      <th>10</th>\n",
              "      <th>100</th>\n",
              "      <th>1000</th>\n",
              "      <th>11</th>\n",
              "      <th>110</th>\n",
              "      <th>114</th>\n",
              "      <th>117</th>\n",
              "      <th>12</th>\n",
              "      <th>125</th>\n",
              "      <th>1290</th>\n",
              "      <th>12th</th>\n",
              "      <th>13</th>\n",
              "      <th>13th</th>\n",
              "      <th>14</th>\n",
              "      <th>14th</th>\n",
              "      <th>15</th>\n",
              "      <th>150</th>\n",
              "      <th>1500</th>\n",
              "      <th>150th</th>\n",
              "      <th>155</th>\n",
              "      <th>15th</th>\n",
              "      <th>16</th>\n",
              "      <th>1610</th>\n",
              "      <th>1667</th>\n",
              "      <th>166th</th>\n",
              "      <th>1674</th>\n",
              "      <th>16th</th>\n",
              "      <th>17</th>\n",
              "      <th>1756</th>\n",
              "      <th>1763</th>\n",
              "      <th>1789</th>\n",
              "      <th>1791</th>\n",
              "      <th>17th</th>\n",
              "      <th>18</th>\n",
              "      <th>180</th>\n",
              "      <th>1800</th>\n",
              "      <th>1806</th>\n",
              "      <th>1850s</th>\n",
              "      <th>1855</th>\n",
              "      <th>1894</th>\n",
              "      <th>18th</th>\n",
              "      <th>19</th>\n",
              "      <th>190</th>\n",
              "      <th>1900</th>\n",
              "      <th>1901</th>\n",
              "      <th>1904</th>\n",
              "      <th>1910</th>\n",
              "      <th>1914</th>\n",
              "      <th>1920s</th>\n",
              "      <th>1922</th>\n",
              "      <th>1930</th>\n",
              "      <th>1930s</th>\n",
              "      <th>1932</th>\n",
              "      <th>1934</th>\n",
              "      <th>1935</th>\n",
              "      <th>1936</th>\n",
              "      <th>1939</th>\n",
              "      <th>1940s</th>\n",
              "      <th>1946</th>\n",
              "      <th>1947</th>\n",
              "      <th>1950</th>\n",
              "      <th>1951</th>\n",
              "      <th>1954</th>\n",
              "      <th>1955</th>\n",
              "      <th>1971</th>\n",
              "      <th>1974</th>\n",
              "      <th>1980s</th>\n",
              "      <th>1983</th>\n",
              "      <th>1984</th>\n",
              "      <th>1985</th>\n",
              "      <th>1986</th>\n",
              "      <th>1990s</th>\n",
              "      <th>1991</th>\n",
              "      <th>1994</th>\n",
              "      <th>1995</th>\n",
              "      <th>1996</th>\n",
              "      <th>1997</th>\n",
              "      <th>1998</th>\n",
              "      <th>1999</th>\n",
              "      <th>19th</th>\n",
              "      <th>20</th>\n",
              "      <th>200</th>\n",
              "      <th>2000</th>\n",
              "      <th>2000s</th>\n",
              "      <th>2001</th>\n",
              "      <th>2001s</th>\n",
              "      <th>2002</th>\n",
              "      <th>2002s</th>\n",
              "      <th>2003</th>\n",
              "      <th>...</th>\n",
              "      <th>wrinkles</th>\n",
              "      <th>write</th>\n",
              "      <th>writers</th>\n",
              "      <th>written</th>\n",
              "      <th>wrong</th>\n",
              "      <th>wrought</th>\n",
              "      <th>würzgarten</th>\n",
              "      <th>xarel</th>\n",
              "      <th>xarello</th>\n",
              "      <th>xavier</th>\n",
              "      <th>ximenez</th>\n",
              "      <th>ximénez</th>\n",
              "      <th>xinomavro</th>\n",
              "      <th>xiv</th>\n",
              "      <th>yalumba</th>\n",
              "      <th>yangarra</th>\n",
              "      <th>yarra</th>\n",
              "      <th>yarrow</th>\n",
              "      <th>yauquén</th>\n",
              "      <th>yealands</th>\n",
              "      <th>year</th>\n",
              "      <th>yearns</th>\n",
              "      <th>years</th>\n",
              "      <th>yeast</th>\n",
              "      <th>yeastiness</th>\n",
              "      <th>yeasts</th>\n",
              "      <th>yeasty</th>\n",
              "      <th>yecla</th>\n",
              "      <th>yellow</th>\n",
              "      <th>yellowing</th>\n",
              "      <th>yellowish</th>\n",
              "      <th>yering</th>\n",
              "      <th>yes</th>\n",
              "      <th>yesterday</th>\n",
              "      <th>yet</th>\n",
              "      <th>yianni</th>\n",
              "      <th>yield</th>\n",
              "      <th>yielded</th>\n",
              "      <th>yielding</th>\n",
              "      <th>yields</th>\n",
              "      <th>yogev</th>\n",
              "      <th>yogurt</th>\n",
              "      <th>yonne</th>\n",
              "      <th>york</th>\n",
              "      <th>you</th>\n",
              "      <th>young</th>\n",
              "      <th>younger</th>\n",
              "      <th>youngest</th>\n",
              "      <th>youngster</th>\n",
              "      <th>your</th>\n",
              "      <th>yours</th>\n",
              "      <th>yourself</th>\n",
              "      <th>youth</th>\n",
              "      <th>youthful</th>\n",
              "      <th>youthfully</th>\n",
              "      <th>ysios</th>\n",
              "      <th>yummy</th>\n",
              "      <th>yung</th>\n",
              "      <th>yup</th>\n",
              "      <th>yuzu</th>\n",
              "      <th>yves</th>\n",
              "      <th>zamora</th>\n",
              "      <th>zantho</th>\n",
              "      <th>zap</th>\n",
              "      <th>zaps</th>\n",
              "      <th>zealand</th>\n",
              "      <th>zellenberg</th>\n",
              "      <th>zeller</th>\n",
              "      <th>zelma</th>\n",
              "      <th>zero</th>\n",
              "      <th>zest</th>\n",
              "      <th>zestier</th>\n",
              "      <th>zestiness</th>\n",
              "      <th>zesty</th>\n",
              "      <th>zibibbo</th>\n",
              "      <th>zierfandler</th>\n",
              "      <th>zimmermann</th>\n",
              "      <th>zin</th>\n",
              "      <th>zinfandel</th>\n",
              "      <th>zing</th>\n",
              "      <th>zinger</th>\n",
              "      <th>zings</th>\n",
              "      <th>zingy</th>\n",
              "      <th>zip</th>\n",
              "      <th>zippiness</th>\n",
              "      <th>zippy</th>\n",
              "      <th>zips</th>\n",
              "      <th>zone</th>\n",
              "      <th>zuccardi</th>\n",
              "      <th>zull</th>\n",
              "      <th>zuri</th>\n",
              "      <th>zweigelt</th>\n",
              "      <th>zwerithaler</th>\n",
              "      <th>zwiegelt</th>\n",
              "      <th>zédé</th>\n",
              "      <th>zéro</th>\n",
              "      <th>élevage</th>\n",
              "      <th>émilion</th>\n",
              "      <th>épernay</th>\n",
              "      <th>ürziger</th>\n",
              "    </tr>\n",
              "  </thead>\n",
              "  <tbody>\n",
              "    <tr>\n",
              "      <th>0</th>\n",
              "      <td>0</td>\n",
              "      <td>0</td>\n",
              "      <td>0</td>\n",
              "      <td>0</td>\n",
              "      <td>0</td>\n",
              "      <td>0</td>\n",
              "      <td>0</td>\n",
              "      <td>0</td>\n",
              "      <td>0</td>\n",
              "      <td>0</td>\n",
              "      <td>0</td>\n",
              "      <td>0</td>\n",
              "      <td>0</td>\n",
              "      <td>0</td>\n",
              "      <td>0</td>\n",
              "      <td>0</td>\n",
              "      <td>0</td>\n",
              "      <td>0</td>\n",
              "      <td>0</td>\n",
              "      <td>0</td>\n",
              "      <td>0</td>\n",
              "      <td>0</td>\n",
              "      <td>0</td>\n",
              "      <td>0</td>\n",
              "      <td>0</td>\n",
              "      <td>0</td>\n",
              "      <td>0</td>\n",
              "      <td>0</td>\n",
              "      <td>0</td>\n",
              "      <td>0</td>\n",
              "      <td>0</td>\n",
              "      <td>0</td>\n",
              "      <td>0</td>\n",
              "      <td>0</td>\n",
              "      <td>0</td>\n",
              "      <td>0</td>\n",
              "      <td>0</td>\n",
              "      <td>0</td>\n",
              "      <td>0</td>\n",
              "      <td>0</td>\n",
              "      <td>0</td>\n",
              "      <td>0</td>\n",
              "      <td>0</td>\n",
              "      <td>0</td>\n",
              "      <td>0</td>\n",
              "      <td>0</td>\n",
              "      <td>0</td>\n",
              "      <td>0</td>\n",
              "      <td>0</td>\n",
              "      <td>0</td>\n",
              "      <td>0</td>\n",
              "      <td>0</td>\n",
              "      <td>0</td>\n",
              "      <td>0</td>\n",
              "      <td>0</td>\n",
              "      <td>0</td>\n",
              "      <td>0</td>\n",
              "      <td>0</td>\n",
              "      <td>0</td>\n",
              "      <td>0</td>\n",
              "      <td>0</td>\n",
              "      <td>0</td>\n",
              "      <td>0</td>\n",
              "      <td>0</td>\n",
              "      <td>0</td>\n",
              "      <td>0</td>\n",
              "      <td>0</td>\n",
              "      <td>0</td>\n",
              "      <td>0</td>\n",
              "      <td>0</td>\n",
              "      <td>0</td>\n",
              "      <td>0</td>\n",
              "      <td>0</td>\n",
              "      <td>0</td>\n",
              "      <td>0</td>\n",
              "      <td>0</td>\n",
              "      <td>0</td>\n",
              "      <td>0</td>\n",
              "      <td>0</td>\n",
              "      <td>0</td>\n",
              "      <td>0</td>\n",
              "      <td>0</td>\n",
              "      <td>0</td>\n",
              "      <td>0</td>\n",
              "      <td>0</td>\n",
              "      <td>0</td>\n",
              "      <td>0</td>\n",
              "      <td>0</td>\n",
              "      <td>0</td>\n",
              "      <td>0</td>\n",
              "      <td>0</td>\n",
              "      <td>0</td>\n",
              "      <td>0</td>\n",
              "      <td>0</td>\n",
              "      <td>0</td>\n",
              "      <td>0</td>\n",
              "      <td>0</td>\n",
              "      <td>0</td>\n",
              "      <td>0</td>\n",
              "      <td>0</td>\n",
              "      <td>...</td>\n",
              "      <td>0</td>\n",
              "      <td>0</td>\n",
              "      <td>0</td>\n",
              "      <td>0</td>\n",
              "      <td>0</td>\n",
              "      <td>0</td>\n",
              "      <td>0</td>\n",
              "      <td>0</td>\n",
              "      <td>0</td>\n",
              "      <td>0</td>\n",
              "      <td>0</td>\n",
              "      <td>0</td>\n",
              "      <td>0</td>\n",
              "      <td>0</td>\n",
              "      <td>0</td>\n",
              "      <td>0</td>\n",
              "      <td>0</td>\n",
              "      <td>0</td>\n",
              "      <td>0</td>\n",
              "      <td>0</td>\n",
              "      <td>0</td>\n",
              "      <td>0</td>\n",
              "      <td>0</td>\n",
              "      <td>0</td>\n",
              "      <td>0</td>\n",
              "      <td>0</td>\n",
              "      <td>0</td>\n",
              "      <td>0</td>\n",
              "      <td>0</td>\n",
              "      <td>0</td>\n",
              "      <td>0</td>\n",
              "      <td>0</td>\n",
              "      <td>0</td>\n",
              "      <td>0</td>\n",
              "      <td>0</td>\n",
              "      <td>0</td>\n",
              "      <td>0</td>\n",
              "      <td>0</td>\n",
              "      <td>0</td>\n",
              "      <td>0</td>\n",
              "      <td>0</td>\n",
              "      <td>0</td>\n",
              "      <td>0</td>\n",
              "      <td>0</td>\n",
              "      <td>0</td>\n",
              "      <td>0</td>\n",
              "      <td>0</td>\n",
              "      <td>0</td>\n",
              "      <td>0</td>\n",
              "      <td>0</td>\n",
              "      <td>0</td>\n",
              "      <td>0</td>\n",
              "      <td>0</td>\n",
              "      <td>0</td>\n",
              "      <td>0</td>\n",
              "      <td>0</td>\n",
              "      <td>0</td>\n",
              "      <td>0</td>\n",
              "      <td>0</td>\n",
              "      <td>0</td>\n",
              "      <td>0</td>\n",
              "      <td>0</td>\n",
              "      <td>0</td>\n",
              "      <td>0</td>\n",
              "      <td>0</td>\n",
              "      <td>0</td>\n",
              "      <td>0</td>\n",
              "      <td>0</td>\n",
              "      <td>0</td>\n",
              "      <td>0</td>\n",
              "      <td>0</td>\n",
              "      <td>0</td>\n",
              "      <td>0</td>\n",
              "      <td>0</td>\n",
              "      <td>0</td>\n",
              "      <td>0</td>\n",
              "      <td>0</td>\n",
              "      <td>0</td>\n",
              "      <td>0</td>\n",
              "      <td>0</td>\n",
              "      <td>0</td>\n",
              "      <td>0</td>\n",
              "      <td>0</td>\n",
              "      <td>0</td>\n",
              "      <td>0</td>\n",
              "      <td>0</td>\n",
              "      <td>0</td>\n",
              "      <td>0</td>\n",
              "      <td>0</td>\n",
              "      <td>0</td>\n",
              "      <td>0</td>\n",
              "      <td>0</td>\n",
              "      <td>0</td>\n",
              "      <td>0</td>\n",
              "      <td>0</td>\n",
              "      <td>0</td>\n",
              "      <td>0</td>\n",
              "      <td>0</td>\n",
              "      <td>0</td>\n",
              "      <td>0</td>\n",
              "    </tr>\n",
              "  </tbody>\n",
              "</table>\n",
              "<p>1 rows × 12391 columns</p>\n",
              "</div>"
            ],
            "text/plain": [
              "   000  01  02  02s  04  05  06  06s  07  08  09  10  100  1000  11  110  114  \\\n",
              "0    0   0   0    0   0   0   0    0   0   0   0   0    0     0   0    0    0   \n",
              "\n",
              "   117  12  125  1290  12th  13  13th  14  14th  15  150  1500  150th  155  \\\n",
              "0    0   0    0     0     0   0     0   0     0   0    0     0      0    0   \n",
              "\n",
              "   15th  16  1610  1667  166th  1674  16th  17  1756  1763  1789  1791  17th  \\\n",
              "0     0   0     0     0      0     0     0   0     0     0     0     0     0   \n",
              "\n",
              "   18  180  1800  1806  1850s  1855  1894  18th  19  190  1900  1901  1904  \\\n",
              "0   0    0     0     0      0     0     0     0   0    0     0     0     0   \n",
              "\n",
              "   1910  1914  1920s  1922  1930  1930s  1932  1934  1935  1936  1939  1940s  \\\n",
              "0     0     0      0     0     0      0     0     0     0     0     0      0   \n",
              "\n",
              "   1946  1947  1950  1951  1954  1955  1971  1974  1980s  1983  1984  1985  \\\n",
              "0     0     0     0     0     0     0     0     0      0     0     0     0   \n",
              "\n",
              "   1986  1990s  1991  1994  1995  1996  1997  1998  1999  19th  20  200  2000  \\\n",
              "0     0      0     0     0     0     0     0     0     0     0   0    0     0   \n",
              "\n",
              "   2000s  2001  2001s  2002  2002s  2003  ...  wrinkles  write  writers  \\\n",
              "0      0     0      0     0      0     0  ...         0      0        0   \n",
              "\n",
              "   written  wrong  wrought  würzgarten  xarel  xarello  xavier  ximenez  \\\n",
              "0        0      0        0           0      0        0       0        0   \n",
              "\n",
              "   ximénez  xinomavro  xiv  yalumba  yangarra  yarra  yarrow  yauquén  \\\n",
              "0        0          0    0        0         0      0       0        0   \n",
              "\n",
              "   yealands  year  yearns  years  yeast  yeastiness  yeasts  yeasty  yecla  \\\n",
              "0         0     0       0      0      0           0       0       0      0   \n",
              "\n",
              "   yellow  yellowing  yellowish  yering  yes  yesterday  yet  yianni  yield  \\\n",
              "0       0          0          0       0    0          0    0       0      0   \n",
              "\n",
              "   yielded  yielding  yields  yogev  yogurt  yonne  york  you  young  younger  \\\n",
              "0        0         0       0      0       0      0     0    0      0        0   \n",
              "\n",
              "   youngest  youngster  your  yours  yourself  youth  youthful  youthfully  \\\n",
              "0         0          0     0      0         0      0         0           0   \n",
              "\n",
              "   ysios  yummy  yung  yup  yuzu  yves  zamora  zantho  zap  zaps  zealand  \\\n",
              "0      0      0     0    0     0     0       0       0    0     0        0   \n",
              "\n",
              "   zellenberg  zeller  zelma  zero  zest  zestier  zestiness  zesty  zibibbo  \\\n",
              "0           0       0      0     0     0        0          0      0        0   \n",
              "\n",
              "   zierfandler  zimmermann  zin  zinfandel  zing  zinger  zings  zingy  zip  \\\n",
              "0            0           0    0          0     0       0      0      0    0   \n",
              "\n",
              "   zippiness  zippy  zips  zone  zuccardi  zull  zuri  zweigelt  zwerithaler  \\\n",
              "0          0      0     0     0         0     0     0         0            0   \n",
              "\n",
              "   zwiegelt  zédé  zéro  élevage  émilion  épernay  ürziger  \n",
              "0         0     0     0        0        0        0        0  \n",
              "\n",
              "[1 rows x 12391 columns]"
            ]
          },
          "metadata": {
            "tags": []
          },
          "execution_count": 39
        }
      ]
    },
    {
      "cell_type": "code",
      "metadata": {
        "colab": {
          "base_uri": "https://localhost:8080/",
          "height": 326
        },
        "id": "dxoZG4spZokO",
        "outputId": "9eecc918-8408-431e-b6a4-9de9a17141ea"
      },
      "source": [
        "df_P['is_red'] = (df_P['category'] == 'Red').astype(int)\n",
        "df_P.head()"
      ],
      "execution_count": 40,
      "outputs": [
        {
          "output_type": "stream",
          "text": [
            "/usr/local/lib/python3.7/dist-packages/ipykernel_launcher.py:1: SettingWithCopyWarning: \n",
            "A value is trying to be set on a copy of a slice from a DataFrame.\n",
            "Try using .loc[row_indexer,col_indexer] = value instead\n",
            "\n",
            "See the caveats in the documentation: https://pandas.pydata.org/pandas-docs/stable/user_guide/indexing.html#returning-a-view-versus-a-copy\n",
            "  \"\"\"Entry point for launching an IPython kernel.\n"
          ],
          "name": "stderr"
        },
        {
          "output_type": "execute_result",
          "data": {
            "text/html": [
              "<div>\n",
              "<style scoped>\n",
              "    .dataframe tbody tr th:only-of-type {\n",
              "        vertical-align: middle;\n",
              "    }\n",
              "\n",
              "    .dataframe tbody tr th {\n",
              "        vertical-align: top;\n",
              "    }\n",
              "\n",
              "    .dataframe thead th {\n",
              "        text-align: right;\n",
              "    }\n",
              "</style>\n",
              "<table border=\"1\" class=\"dataframe\">\n",
              "  <thead>\n",
              "    <tr style=\"text-align: right;\">\n",
              "      <th></th>\n",
              "      <th>wine_desc</th>\n",
              "      <th>category</th>\n",
              "      <th>is_red</th>\n",
              "    </tr>\n",
              "  </thead>\n",
              "  <tbody>\n",
              "    <tr>\n",
              "      <th>0</th>\n",
              "      <td>Inky, minerally aromas of blackberry, black pl...</td>\n",
              "      <td>Red</td>\n",
              "      <td>1</td>\n",
              "    </tr>\n",
              "    <tr>\n",
              "      <th>6</th>\n",
              "      <td>The two-acre Clos du Chapitre vineyard is in t...</td>\n",
              "      <td>Red</td>\n",
              "      <td>1</td>\n",
              "    </tr>\n",
              "    <tr>\n",
              "      <th>7</th>\n",
              "      <td>Spice, licorice and herbal notes complement re...</td>\n",
              "      <td>Red</td>\n",
              "      <td>1</td>\n",
              "    </tr>\n",
              "    <tr>\n",
              "      <th>10</th>\n",
              "      <td>Honey-kissed peaches waft from this ripe, rich...</td>\n",
              "      <td>White</td>\n",
              "      <td>0</td>\n",
              "    </tr>\n",
              "    <tr>\n",
              "      <th>11</th>\n",
              "      <td>Full and ripe, this offers balance between ric...</td>\n",
              "      <td>Sparkling</td>\n",
              "      <td>0</td>\n",
              "    </tr>\n",
              "  </tbody>\n",
              "</table>\n",
              "</div>"
            ],
            "text/plain": [
              "                                            wine_desc   category  is_red\n",
              "0   Inky, minerally aromas of blackberry, black pl...        Red       1\n",
              "6   The two-acre Clos du Chapitre vineyard is in t...        Red       1\n",
              "7   Spice, licorice and herbal notes complement re...        Red       1\n",
              "10  Honey-kissed peaches waft from this ripe, rich...      White       0\n",
              "11  Full and ripe, this offers balance between ric...  Sparkling       0"
            ]
          },
          "metadata": {
            "tags": []
          },
          "execution_count": 40
        }
      ]
    },
    {
      "cell_type": "code",
      "metadata": {
        "id": "PYYRdbNpZokO"
      },
      "source": [
        "X = words_df\n",
        "y = df_P.is_red"
      ],
      "execution_count": 41,
      "outputs": []
    },
    {
      "cell_type": "code",
      "metadata": {
        "id": "Etmh4zRdZokP"
      },
      "source": [
        "from sklearn.model_selection import train_test_split\n",
        "\n",
        "X_train, X_test, y_train, y_test = train_test_split(X, y)"
      ],
      "execution_count": 42,
      "outputs": []
    },
    {
      "cell_type": "code",
      "metadata": {
        "colab": {
          "base_uri": "https://localhost:8080/"
        },
        "id": "31icgoM7ZokP",
        "outputId": "553f9f58-1a7f-4f36-8a4b-080e1ef12e43"
      },
      "source": [
        "from sklearn.tree import DecisionTreeClassifier \n",
        "clf = DecisionTreeClassifier(max_depth=5)\n",
        "clf.fit(X_train, y_train)"
      ],
      "execution_count": 43,
      "outputs": [
        {
          "output_type": "execute_result",
          "data": {
            "text/plain": [
              "DecisionTreeClassifier(ccp_alpha=0.0, class_weight=None, criterion='gini',\n",
              "                       max_depth=5, max_features=None, max_leaf_nodes=None,\n",
              "                       min_impurity_decrease=0.0, min_impurity_split=None,\n",
              "                       min_samples_leaf=1, min_samples_split=2,\n",
              "                       min_weight_fraction_leaf=0.0, presort='deprecated',\n",
              "                       random_state=None, splitter='best')"
            ]
          },
          "metadata": {
            "tags": []
          },
          "execution_count": 43
        }
      ]
    },
    {
      "cell_type": "code",
      "metadata": {
        "colab": {
          "base_uri": "https://localhost:8080/",
          "height": 111
        },
        "id": "Ukc1tR7UZokP",
        "outputId": "7c71e6fc-9a54-4e05-c807-f57a3a49a06b"
      },
      "source": [
        "from sklearn.metrics import confusion_matrix\n",
        "\n",
        "y_true = y_test\n",
        "y_pred = clf.predict(X_test)\n",
        "matrix = confusion_matrix(y_true, y_pred)\n",
        "\n",
        "label_names = pd.Series(['not red', 'red'])\n",
        "pd.DataFrame(matrix,\n",
        "     columns='Predicted ' + label_names,\n",
        "     index='Is ' + label_names)"
      ],
      "execution_count": 44,
      "outputs": [
        {
          "output_type": "execute_result",
          "data": {
            "text/html": [
              "<div>\n",
              "<style scoped>\n",
              "    .dataframe tbody tr th:only-of-type {\n",
              "        vertical-align: middle;\n",
              "    }\n",
              "\n",
              "    .dataframe tbody tr th {\n",
              "        vertical-align: top;\n",
              "    }\n",
              "\n",
              "    .dataframe thead th {\n",
              "        text-align: right;\n",
              "    }\n",
              "</style>\n",
              "<table border=\"1\" class=\"dataframe\">\n",
              "  <thead>\n",
              "    <tr style=\"text-align: right;\">\n",
              "      <th></th>\n",
              "      <th>Predicted not red</th>\n",
              "      <th>Predicted red</th>\n",
              "    </tr>\n",
              "  </thead>\n",
              "  <tbody>\n",
              "    <tr>\n",
              "      <th>Is not red</th>\n",
              "      <td>1609</td>\n",
              "      <td>82</td>\n",
              "    </tr>\n",
              "    <tr>\n",
              "      <th>Is red</th>\n",
              "      <td>266</td>\n",
              "      <td>1373</td>\n",
              "    </tr>\n",
              "  </tbody>\n",
              "</table>\n",
              "</div>"
            ],
            "text/plain": [
              "            Predicted not red  Predicted red\n",
              "Is not red               1609             82\n",
              "Is red                    266           1373"
            ]
          },
          "metadata": {
            "tags": []
          },
          "execution_count": 44
        }
      ]
    },
    {
      "cell_type": "code",
      "metadata": {
        "colab": {
          "base_uri": "https://localhost:8080/"
        },
        "id": "CYSbTHB-ZokP",
        "outputId": "d2a6a83e-bf8a-4030-c1b6-e0d9e124bbe0"
      },
      "source": [
        "from sklearn.svm import LinearSVC \n",
        "clf = LinearSVC(max_iter=10000)\n",
        "clf.fit(X_train, y_train)"
      ],
      "execution_count": 45,
      "outputs": [
        {
          "output_type": "execute_result",
          "data": {
            "text/plain": [
              "LinearSVC(C=1.0, class_weight=None, dual=True, fit_intercept=True,\n",
              "          intercept_scaling=1, loss='squared_hinge', max_iter=10000,\n",
              "          multi_class='ovr', penalty='l2', random_state=None, tol=0.0001,\n",
              "          verbose=0)"
            ]
          },
          "metadata": {
            "tags": []
          },
          "execution_count": 45
        }
      ]
    },
    {
      "cell_type": "code",
      "metadata": {
        "colab": {
          "base_uri": "https://localhost:8080/",
          "height": 111
        },
        "id": "54-o0O8JZokP",
        "outputId": "c84cd69a-7c3f-41a3-b477-8f097ee97842"
      },
      "source": [
        "from sklearn.metrics import confusion_matrix\n",
        "\n",
        "y_true = y_test\n",
        "y_pred = clf.predict(X_test)\n",
        "matrix = confusion_matrix(y_true, y_pred)\n",
        "\n",
        "label_names = pd.Series(['not red', 'red'])\n",
        "pd.DataFrame(matrix,\n",
        "     columns='Predicted ' + label_names,\n",
        "     index='Is ' + label_names)"
      ],
      "execution_count": 51,
      "outputs": [
        {
          "output_type": "execute_result",
          "data": {
            "text/html": [
              "<div>\n",
              "<style scoped>\n",
              "    .dataframe tbody tr th:only-of-type {\n",
              "        vertical-align: middle;\n",
              "    }\n",
              "\n",
              "    .dataframe tbody tr th {\n",
              "        vertical-align: top;\n",
              "    }\n",
              "\n",
              "    .dataframe thead th {\n",
              "        text-align: right;\n",
              "    }\n",
              "</style>\n",
              "<table border=\"1\" class=\"dataframe\">\n",
              "  <thead>\n",
              "    <tr style=\"text-align: right;\">\n",
              "      <th></th>\n",
              "      <th>Predicted not red</th>\n",
              "      <th>Predicted red</th>\n",
              "    </tr>\n",
              "  </thead>\n",
              "  <tbody>\n",
              "    <tr>\n",
              "      <th>Is not red</th>\n",
              "      <td>1609</td>\n",
              "      <td>82</td>\n",
              "    </tr>\n",
              "    <tr>\n",
              "      <th>Is red</th>\n",
              "      <td>83</td>\n",
              "      <td>1556</td>\n",
              "    </tr>\n",
              "  </tbody>\n",
              "</table>\n",
              "</div>"
            ],
            "text/plain": [
              "            Predicted not red  Predicted red\n",
              "Is not red               1609             82\n",
              "Is red                     83           1556"
            ]
          },
          "metadata": {
            "tags": []
          },
          "execution_count": 51
        }
      ]
    },
    {
      "cell_type": "code",
      "metadata": {
        "colab": {
          "base_uri": "https://localhost:8080/"
        },
        "id": "BkRnGheNdS2c",
        "outputId": "6d0b80a2-8e5b-465b-817d-bd1487436155"
      },
      "source": [
        "!pip install eli5"
      ],
      "execution_count": 52,
      "outputs": [
        {
          "output_type": "stream",
          "text": [
            "Requirement already satisfied: eli5 in /usr/local/lib/python3.7/dist-packages (0.11.0)\n",
            "Requirement already satisfied: graphviz in /usr/local/lib/python3.7/dist-packages (from eli5) (0.10.1)\n",
            "Requirement already satisfied: tabulate>=0.7.7 in /usr/local/lib/python3.7/dist-packages (from eli5) (0.8.9)\n",
            "Requirement already satisfied: six in /usr/local/lib/python3.7/dist-packages (from eli5) (1.15.0)\n",
            "Requirement already satisfied: attrs>16.0.0 in /usr/local/lib/python3.7/dist-packages (from eli5) (20.3.0)\n",
            "Requirement already satisfied: jinja2 in /usr/local/lib/python3.7/dist-packages (from eli5) (2.11.3)\n",
            "Requirement already satisfied: scipy in /usr/local/lib/python3.7/dist-packages (from eli5) (1.4.1)\n",
            "Requirement already satisfied: numpy>=1.9.0 in /usr/local/lib/python3.7/dist-packages (from eli5) (1.19.5)\n",
            "Requirement already satisfied: scikit-learn>=0.20 in /usr/local/lib/python3.7/dist-packages (from eli5) (0.22.2.post1)\n",
            "Requirement already satisfied: MarkupSafe>=0.23 in /usr/local/lib/python3.7/dist-packages (from jinja2->eli5) (1.1.1)\n",
            "Requirement already satisfied: joblib>=0.11 in /usr/local/lib/python3.7/dist-packages (from scikit-learn>=0.20->eli5) (1.0.1)\n"
          ],
          "name": "stdout"
        }
      ]
    },
    {
      "cell_type": "code",
      "metadata": {
        "colab": {
          "base_uri": "https://localhost:8080/",
          "height": 464
        },
        "id": "_DxRErS8ZokP",
        "outputId": "10d69211-e85a-4942-badd-d7e96d7ed983"
      },
      "source": [
        "import eli5\n",
        "\n",
        "eli5.show_weights(clf, feature_names=vectorizer.get_feature_names())"
      ],
      "execution_count": 53,
      "outputs": [
        {
          "output_type": "execute_result",
          "data": {
            "text/html": [
              "\n",
              "    <style>\n",
              "    table.eli5-weights tr:hover {\n",
              "        filter: brightness(85%);\n",
              "    }\n",
              "</style>\n",
              "\n",
              "\n",
              "\n",
              "    \n",
              "\n",
              "    \n",
              "\n",
              "    \n",
              "\n",
              "    \n",
              "\n",
              "    \n",
              "\n",
              "    \n",
              "\n",
              "\n",
              "    \n",
              "\n",
              "    \n",
              "\n",
              "    \n",
              "\n",
              "    \n",
              "        \n",
              "\n",
              "    \n",
              "\n",
              "        \n",
              "            \n",
              "                \n",
              "                \n",
              "    \n",
              "        <p style=\"margin-bottom: 0.5em; margin-top: 0em\">\n",
              "            <b>\n",
              "    \n",
              "        y=1\n",
              "    \n",
              "</b>\n",
              "\n",
              "top features\n",
              "        </p>\n",
              "    \n",
              "    <table class=\"eli5-weights\"\n",
              "           style=\"border-collapse: collapse; border: none; margin-top: 0em; table-layout: auto; margin-bottom: 2em;\">\n",
              "        <thead>\n",
              "        <tr style=\"border: none;\">\n",
              "            \n",
              "                <th style=\"padding: 0 1em 0 0.5em; text-align: right; border: none;\" title=\"Feature weights. Note that weights do not account for feature value scales, so if feature values have different scales, features with highest weights might not be the most important.\">\n",
              "                    Weight<sup>?</sup>\n",
              "                </th>\n",
              "            \n",
              "            <th style=\"padding: 0 0.5em 0 0.5em; text-align: left; border: none;\">Feature</th>\n",
              "            \n",
              "        </tr>\n",
              "        </thead>\n",
              "        <tbody>\n",
              "        \n",
              "            <tr style=\"background-color: hsl(120, 100.00%, 87.07%); border: none;\">\n",
              "    <td style=\"padding: 0 1em 0 0.5em; text-align: right; border: none;\">\n",
              "        +0.957\n",
              "    </td>\n",
              "    <td style=\"padding: 0 0.5em 0 0.5em; text-align: left; border: none;\">\n",
              "        malbec\n",
              "    </td>\n",
              "    \n",
              "</tr>\n",
              "        \n",
              "            <tr style=\"background-color: hsl(120, 100.00%, 87.78%); border: none;\">\n",
              "    <td style=\"padding: 0 1em 0 0.5em; text-align: right; border: none;\">\n",
              "        +0.883\n",
              "    </td>\n",
              "    <td style=\"padding: 0 0.5em 0 0.5em; text-align: left; border: none;\">\n",
              "        me\n",
              "    </td>\n",
              "    \n",
              "</tr>\n",
              "        \n",
              "            <tr style=\"background-color: hsl(120, 100.00%, 87.81%); border: none;\">\n",
              "    <td style=\"padding: 0 1em 0 0.5em; text-align: right; border: none;\">\n",
              "        +0.880\n",
              "    </td>\n",
              "    <td style=\"padding: 0 0.5em 0 0.5em; text-align: left; border: none;\">\n",
              "        imparting\n",
              "    </td>\n",
              "    \n",
              "</tr>\n",
              "        \n",
              "            <tr style=\"background-color: hsl(120, 100.00%, 87.93%); border: none;\">\n",
              "    <td style=\"padding: 0 1em 0 0.5em; text-align: right; border: none;\">\n",
              "        +0.868\n",
              "    </td>\n",
              "    <td style=\"padding: 0 0.5em 0 0.5em; text-align: left; border: none;\">\n",
              "        blackberries\n",
              "    </td>\n",
              "    \n",
              "</tr>\n",
              "        \n",
              "            <tr style=\"background-color: hsl(120, 100.00%, 87.95%); border: none;\">\n",
              "    <td style=\"padding: 0 1em 0 0.5em; text-align: right; border: none;\">\n",
              "        +0.866\n",
              "    </td>\n",
              "    <td style=\"padding: 0 0.5em 0 0.5em; text-align: left; border: none;\">\n",
              "        traditional\n",
              "    </td>\n",
              "    \n",
              "</tr>\n",
              "        \n",
              "            <tr style=\"background-color: hsl(120, 100.00%, 88.07%); border: none;\">\n",
              "    <td style=\"padding: 0 1em 0 0.5em; text-align: right; border: none;\">\n",
              "        +0.854\n",
              "    </td>\n",
              "    <td style=\"padding: 0 0.5em 0 0.5em; text-align: left; border: none;\">\n",
              "        tannins\n",
              "    </td>\n",
              "    \n",
              "</tr>\n",
              "        \n",
              "        \n",
              "            <tr style=\"background-color: hsl(120, 100.00%, 88.07%); border: none;\">\n",
              "                <td colspan=\"2\" style=\"padding: 0 0.5em 0 0.5em; text-align: center; border: none; white-space: nowrap;\">\n",
              "                    <i>&hellip; 3003 more positive &hellip;</i>\n",
              "                </td>\n",
              "            </tr>\n",
              "        \n",
              "\n",
              "        \n",
              "            <tr style=\"background-color: hsl(0, 100.00%, 88.10%); border: none;\">\n",
              "                <td colspan=\"2\" style=\"padding: 0 0.5em 0 0.5em; text-align: center; border: none; white-space: nowrap;\">\n",
              "                    <i>&hellip; 2587 more negative &hellip;</i>\n",
              "                </td>\n",
              "            </tr>\n",
              "        \n",
              "        \n",
              "            <tr style=\"background-color: hsl(0, 100.00%, 88.10%); border: none;\">\n",
              "    <td style=\"padding: 0 1em 0 0.5em; text-align: right; border: none;\">\n",
              "        -0.850\n",
              "    </td>\n",
              "    <td style=\"padding: 0 0.5em 0 0.5em; text-align: left; border: none;\">\n",
              "        apples\n",
              "    </td>\n",
              "    \n",
              "</tr>\n",
              "        \n",
              "            <tr style=\"background-color: hsl(0, 100.00%, 87.94%); border: none;\">\n",
              "    <td style=\"padding: 0 1em 0 0.5em; text-align: right; border: none;\">\n",
              "        -0.867\n",
              "    </td>\n",
              "    <td style=\"padding: 0 0.5em 0 0.5em; text-align: left; border: none;\">\n",
              "        2029\n",
              "    </td>\n",
              "    \n",
              "</tr>\n",
              "        \n",
              "            <tr style=\"background-color: hsl(0, 100.00%, 87.54%); border: none;\">\n",
              "    <td style=\"padding: 0 1em 0 0.5em; text-align: right; border: none;\">\n",
              "        -0.908\n",
              "    </td>\n",
              "    <td style=\"padding: 0 0.5em 0 0.5em; text-align: left; border: none;\">\n",
              "        pear\n",
              "    </td>\n",
              "    \n",
              "</tr>\n",
              "        \n",
              "            <tr style=\"background-color: hsl(0, 100.00%, 87.43%); border: none;\">\n",
              "    <td style=\"padding: 0 1em 0 0.5em; text-align: right; border: none;\">\n",
              "        -0.920\n",
              "    </td>\n",
              "    <td style=\"padding: 0 0.5em 0 0.5em; text-align: left; border: none;\">\n",
              "        champagne\n",
              "    </td>\n",
              "    \n",
              "</tr>\n",
              "        \n",
              "            <tr style=\"background-color: hsl(0, 100.00%, 87.38%); border: none;\">\n",
              "    <td style=\"padding: 0 1em 0 0.5em; text-align: right; border: none;\">\n",
              "        -0.925\n",
              "    </td>\n",
              "    <td style=\"padding: 0 0.5em 0 0.5em; text-align: left; border: none;\">\n",
              "        chardonnay\n",
              "    </td>\n",
              "    \n",
              "</tr>\n",
              "        \n",
              "            <tr style=\"background-color: hsl(0, 100.00%, 87.07%); border: none;\">\n",
              "    <td style=\"padding: 0 1em 0 0.5em; text-align: right; border: none;\">\n",
              "        -0.958\n",
              "    </td>\n",
              "    <td style=\"padding: 0 0.5em 0 0.5em; text-align: left; border: none;\">\n",
              "        2026\n",
              "    </td>\n",
              "    \n",
              "</tr>\n",
              "        \n",
              "            <tr style=\"background-color: hsl(0, 100.00%, 86.47%); border: none;\">\n",
              "    <td style=\"padding: 0 1em 0 0.5em; text-align: right; border: none;\">\n",
              "        -1.022\n",
              "    </td>\n",
              "    <td style=\"padding: 0 0.5em 0 0.5em; text-align: left; border: none;\">\n",
              "        honey\n",
              "    </td>\n",
              "    \n",
              "</tr>\n",
              "        \n",
              "            <tr style=\"background-color: hsl(0, 100.00%, 86.14%); border: none;\">\n",
              "    <td style=\"padding: 0 1em 0 0.5em; text-align: right; border: none;\">\n",
              "        -1.057\n",
              "    </td>\n",
              "    <td style=\"padding: 0 0.5em 0 0.5em; text-align: left; border: none;\">\n",
              "        yellow\n",
              "    </td>\n",
              "    \n",
              "</tr>\n",
              "        \n",
              "            <tr style=\"background-color: hsl(0, 100.00%, 85.50%); border: none;\">\n",
              "    <td style=\"padding: 0 1em 0 0.5em; text-align: right; border: none;\">\n",
              "        -1.128\n",
              "    </td>\n",
              "    <td style=\"padding: 0 0.5em 0 0.5em; text-align: left; border: none;\">\n",
              "        masking\n",
              "    </td>\n",
              "    \n",
              "</tr>\n",
              "        \n",
              "            <tr style=\"background-color: hsl(0, 100.00%, 85.23%); border: none;\">\n",
              "    <td style=\"padding: 0 1em 0 0.5em; text-align: right; border: none;\">\n",
              "        -1.158\n",
              "    </td>\n",
              "    <td style=\"padding: 0 0.5em 0 0.5em; text-align: left; border: none;\">\n",
              "        2027\n",
              "    </td>\n",
              "    \n",
              "</tr>\n",
              "        \n",
              "            <tr style=\"background-color: hsl(0, 100.00%, 84.96%); border: none;\">\n",
              "    <td style=\"padding: 0 1em 0 0.5em; text-align: right; border: none;\">\n",
              "        -1.188\n",
              "    </td>\n",
              "    <td style=\"padding: 0 0.5em 0 0.5em; text-align: left; border: none;\">\n",
              "        apple\n",
              "    </td>\n",
              "    \n",
              "</tr>\n",
              "        \n",
              "            <tr style=\"background-color: hsl(0, 100.00%, 83.74%); border: none;\">\n",
              "    <td style=\"padding: 0 1em 0 0.5em; text-align: right; border: none;\">\n",
              "        -1.329\n",
              "    </td>\n",
              "    <td style=\"padding: 0 0.5em 0 0.5em; text-align: left; border: none;\">\n",
              "        rosé\n",
              "    </td>\n",
              "    \n",
              "</tr>\n",
              "        \n",
              "            <tr style=\"background-color: hsl(0, 100.00%, 81.99%); border: none;\">\n",
              "    <td style=\"padding: 0 1em 0 0.5em; text-align: right; border: none;\">\n",
              "        -1.538\n",
              "    </td>\n",
              "    <td style=\"padding: 0 0.5em 0 0.5em; text-align: left; border: none;\">\n",
              "        port\n",
              "    </td>\n",
              "    \n",
              "</tr>\n",
              "        \n",
              "            <tr style=\"background-color: hsl(0, 100.00%, 80.00%); border: none;\">\n",
              "    <td style=\"padding: 0 1em 0 0.5em; text-align: right; border: none;\">\n",
              "        -1.786\n",
              "    </td>\n",
              "    <td style=\"padding: 0 0.5em 0 0.5em; text-align: left; border: none;\">\n",
              "        2028\n",
              "    </td>\n",
              "    \n",
              "</tr>\n",
              "        \n",
              "\n",
              "        </tbody>\n",
              "    </table>\n",
              "\n",
              "            \n",
              "        \n",
              "\n",
              "        \n",
              "\n",
              "\n",
              "\n",
              "    \n",
              "\n",
              "    \n",
              "\n",
              "    \n",
              "\n",
              "    \n",
              "\n",
              "\n",
              "    \n",
              "\n",
              "    \n",
              "\n",
              "    \n",
              "\n",
              "    \n",
              "\n",
              "    \n",
              "\n",
              "    \n",
              "\n",
              "\n",
              "    \n",
              "\n",
              "    \n",
              "\n",
              "    \n",
              "\n",
              "    \n",
              "\n",
              "    \n",
              "\n",
              "    \n",
              "\n",
              "\n",
              "\n"
            ],
            "text/plain": [
              "<IPython.core.display.HTML object>"
            ]
          },
          "metadata": {
            "tags": []
          },
          "execution_count": 53
        }
      ]
    },
    {
      "cell_type": "code",
      "metadata": {
        "colab": {
          "base_uri": "https://localhost:8080/",
          "height": 326
        },
        "id": "pZogBzkPZokP",
        "outputId": "de993b94-2331-40f2-db34-914dda596d98"
      },
      "source": [
        "from sklearn import preprocessing\n",
        "\n",
        "le = preprocessing.LabelEncoder()\n",
        "df_P['category_label'] = le.fit_transform(df_P.category)\n",
        "df_P.head()"
      ],
      "execution_count": 54,
      "outputs": [
        {
          "output_type": "stream",
          "text": [
            "/usr/local/lib/python3.7/dist-packages/ipykernel_launcher.py:4: SettingWithCopyWarning: \n",
            "A value is trying to be set on a copy of a slice from a DataFrame.\n",
            "Try using .loc[row_indexer,col_indexer] = value instead\n",
            "\n",
            "See the caveats in the documentation: https://pandas.pydata.org/pandas-docs/stable/user_guide/indexing.html#returning-a-view-versus-a-copy\n",
            "  after removing the cwd from sys.path.\n"
          ],
          "name": "stderr"
        },
        {
          "output_type": "execute_result",
          "data": {
            "text/html": [
              "<div>\n",
              "<style scoped>\n",
              "    .dataframe tbody tr th:only-of-type {\n",
              "        vertical-align: middle;\n",
              "    }\n",
              "\n",
              "    .dataframe tbody tr th {\n",
              "        vertical-align: top;\n",
              "    }\n",
              "\n",
              "    .dataframe thead th {\n",
              "        text-align: right;\n",
              "    }\n",
              "</style>\n",
              "<table border=\"1\" class=\"dataframe\">\n",
              "  <thead>\n",
              "    <tr style=\"text-align: right;\">\n",
              "      <th></th>\n",
              "      <th>wine_desc</th>\n",
              "      <th>category</th>\n",
              "      <th>is_red</th>\n",
              "      <th>category_label</th>\n",
              "    </tr>\n",
              "  </thead>\n",
              "  <tbody>\n",
              "    <tr>\n",
              "      <th>0</th>\n",
              "      <td>Inky, minerally aromas of blackberry, black pl...</td>\n",
              "      <td>Red</td>\n",
              "      <td>1</td>\n",
              "      <td>3</td>\n",
              "    </tr>\n",
              "    <tr>\n",
              "      <th>6</th>\n",
              "      <td>The two-acre Clos du Chapitre vineyard is in t...</td>\n",
              "      <td>Red</td>\n",
              "      <td>1</td>\n",
              "      <td>3</td>\n",
              "    </tr>\n",
              "    <tr>\n",
              "      <th>7</th>\n",
              "      <td>Spice, licorice and herbal notes complement re...</td>\n",
              "      <td>Red</td>\n",
              "      <td>1</td>\n",
              "      <td>3</td>\n",
              "    </tr>\n",
              "    <tr>\n",
              "      <th>10</th>\n",
              "      <td>Honey-kissed peaches waft from this ripe, rich...</td>\n",
              "      <td>White</td>\n",
              "      <td>0</td>\n",
              "      <td>6</td>\n",
              "    </tr>\n",
              "    <tr>\n",
              "      <th>11</th>\n",
              "      <td>Full and ripe, this offers balance between ric...</td>\n",
              "      <td>Sparkling</td>\n",
              "      <td>0</td>\n",
              "      <td>5</td>\n",
              "    </tr>\n",
              "  </tbody>\n",
              "</table>\n",
              "</div>"
            ],
            "text/plain": [
              "                                            wine_desc   category  is_red  \\\n",
              "0   Inky, minerally aromas of blackberry, black pl...        Red       1   \n",
              "6   The two-acre Clos du Chapitre vineyard is in t...        Red       1   \n",
              "7   Spice, licorice and herbal notes complement re...        Red       1   \n",
              "10  Honey-kissed peaches waft from this ripe, rich...      White       0   \n",
              "11  Full and ripe, this offers balance between ric...  Sparkling       0   \n",
              "\n",
              "    category_label  \n",
              "0                3  \n",
              "6                3  \n",
              "7                3  \n",
              "10               6  \n",
              "11               5  "
            ]
          },
          "metadata": {
            "tags": []
          },
          "execution_count": 54
        }
      ]
    },
    {
      "cell_type": "code",
      "metadata": {
        "id": "grCTVXTLZokP"
      },
      "source": [
        "X = words_df\n",
        "y = df_P.category_label"
      ],
      "execution_count": 55,
      "outputs": []
    },
    {
      "cell_type": "code",
      "metadata": {
        "id": "tyW4C2t5ZokP"
      },
      "source": [
        "from sklearn.model_selection import train_test_split\n",
        "\n",
        "X_train, X_test, y_train, y_test = train_test_split(X, y)"
      ],
      "execution_count": 56,
      "outputs": []
    },
    {
      "cell_type": "code",
      "metadata": {
        "colab": {
          "base_uri": "https://localhost:8080/"
        },
        "id": "NA3j5sZwZokP",
        "outputId": "6843392d-7b96-4a53-b4cd-6d2b8c189c2f"
      },
      "source": [
        "from sklearn.svm import LinearSVC \n",
        "clf = LinearSVC(max_iter=10000)\n",
        "clf.fit(X_train, y_train)"
      ],
      "execution_count": 57,
      "outputs": [
        {
          "output_type": "execute_result",
          "data": {
            "text/plain": [
              "LinearSVC(C=1.0, class_weight=None, dual=True, fit_intercept=True,\n",
              "          intercept_scaling=1, loss='squared_hinge', max_iter=10000,\n",
              "          multi_class='ovr', penalty='l2', random_state=None, tol=0.0001,\n",
              "          verbose=0)"
            ]
          },
          "metadata": {
            "tags": []
          },
          "execution_count": 57
        }
      ]
    },
    {
      "cell_type": "code",
      "metadata": {
        "colab": {
          "base_uri": "https://localhost:8080/",
          "height": 317
        },
        "id": "tp13we2yZokP",
        "outputId": "cde64e85-3952-4bdd-dc7a-c2986557dbed"
      },
      "source": [
        "from sklearn.metrics import confusion_matrix\n",
        "\n",
        "y_true = y_test\n",
        "y_pred = clf.predict(X_test)\n",
        "matrix = confusion_matrix(y_true, y_pred)\n",
        "\n",
        "label_names = pd.Series(le.classes_)\n",
        "pd.DataFrame(matrix,\n",
        "     columns='Predicted ' + label_names,\n",
        "     index='Is ' + label_names)"
      ],
      "execution_count": 58,
      "outputs": [
        {
          "output_type": "execute_result",
          "data": {
            "text/html": [
              "<div>\n",
              "<style scoped>\n",
              "    .dataframe tbody tr th:only-of-type {\n",
              "        vertical-align: middle;\n",
              "    }\n",
              "\n",
              "    .dataframe tbody tr th {\n",
              "        vertical-align: top;\n",
              "    }\n",
              "\n",
              "    .dataframe thead th {\n",
              "        text-align: right;\n",
              "    }\n",
              "</style>\n",
              "<table border=\"1\" class=\"dataframe\">\n",
              "  <thead>\n",
              "    <tr style=\"text-align: right;\">\n",
              "      <th></th>\n",
              "      <th>Predicted Dessert</th>\n",
              "      <th>Predicted Fortified</th>\n",
              "      <th>Predicted Port/Sherry</th>\n",
              "      <th>Predicted Red</th>\n",
              "      <th>Predicted Rose</th>\n",
              "      <th>Predicted Sparkling</th>\n",
              "      <th>Predicted White</th>\n",
              "    </tr>\n",
              "  </thead>\n",
              "  <tbody>\n",
              "    <tr>\n",
              "      <th>Is Dessert</th>\n",
              "      <td>32</td>\n",
              "      <td>0</td>\n",
              "      <td>2</td>\n",
              "      <td>4</td>\n",
              "      <td>1</td>\n",
              "      <td>2</td>\n",
              "      <td>28</td>\n",
              "    </tr>\n",
              "    <tr>\n",
              "      <th>Is Fortified</th>\n",
              "      <td>1</td>\n",
              "      <td>1</td>\n",
              "      <td>3</td>\n",
              "      <td>0</td>\n",
              "      <td>0</td>\n",
              "      <td>0</td>\n",
              "      <td>1</td>\n",
              "    </tr>\n",
              "    <tr>\n",
              "      <th>Is Port/Sherry</th>\n",
              "      <td>3</td>\n",
              "      <td>0</td>\n",
              "      <td>38</td>\n",
              "      <td>13</td>\n",
              "      <td>0</td>\n",
              "      <td>1</td>\n",
              "      <td>4</td>\n",
              "    </tr>\n",
              "    <tr>\n",
              "      <th>Is Red</th>\n",
              "      <td>1</td>\n",
              "      <td>0</td>\n",
              "      <td>8</td>\n",
              "      <td>1599</td>\n",
              "      <td>11</td>\n",
              "      <td>12</td>\n",
              "      <td>24</td>\n",
              "    </tr>\n",
              "    <tr>\n",
              "      <th>Is Rose</th>\n",
              "      <td>0</td>\n",
              "      <td>0</td>\n",
              "      <td>0</td>\n",
              "      <td>25</td>\n",
              "      <td>72</td>\n",
              "      <td>17</td>\n",
              "      <td>15</td>\n",
              "    </tr>\n",
              "    <tr>\n",
              "      <th>Is Sparkling</th>\n",
              "      <td>1</td>\n",
              "      <td>0</td>\n",
              "      <td>0</td>\n",
              "      <td>15</td>\n",
              "      <td>13</td>\n",
              "      <td>264</td>\n",
              "      <td>60</td>\n",
              "    </tr>\n",
              "    <tr>\n",
              "      <th>Is White</th>\n",
              "      <td>13</td>\n",
              "      <td>0</td>\n",
              "      <td>3</td>\n",
              "      <td>28</td>\n",
              "      <td>5</td>\n",
              "      <td>39</td>\n",
              "      <td>971</td>\n",
              "    </tr>\n",
              "  </tbody>\n",
              "</table>\n",
              "</div>"
            ],
            "text/plain": [
              "                Predicted Dessert  Predicted Fortified  Predicted Port/Sherry  \\\n",
              "Is Dessert                     32                    0                      2   \n",
              "Is Fortified                    1                    1                      3   \n",
              "Is Port/Sherry                  3                    0                     38   \n",
              "Is Red                          1                    0                      8   \n",
              "Is Rose                         0                    0                      0   \n",
              "Is Sparkling                    1                    0                      0   \n",
              "Is White                       13                    0                      3   \n",
              "\n",
              "                Predicted Red  Predicted Rose  Predicted Sparkling  \\\n",
              "Is Dessert                  4               1                    2   \n",
              "Is Fortified                0               0                    0   \n",
              "Is Port/Sherry             13               0                    1   \n",
              "Is Red                   1599              11                   12   \n",
              "Is Rose                    25              72                   17   \n",
              "Is Sparkling               15              13                  264   \n",
              "Is White                   28               5                   39   \n",
              "\n",
              "                Predicted White  \n",
              "Is Dessert                   28  \n",
              "Is Fortified                  1  \n",
              "Is Port/Sherry                4  \n",
              "Is Red                       24  \n",
              "Is Rose                      15  \n",
              "Is Sparkling                 60  \n",
              "Is White                    971  "
            ]
          },
          "metadata": {
            "tags": []
          },
          "execution_count": 58
        }
      ]
    },
    {
      "cell_type": "code",
      "metadata": {
        "colab": {
          "base_uri": "https://localhost:8080/",
          "height": 187
        },
        "id": "ejVQukZ7ZokQ",
        "outputId": "db18373e-6440-4d2c-a828-15693b6ee95f"
      },
      "source": [
        "from sklearn.metrics import confusion_matrix\n",
        "\n",
        "y_true = y_test\n",
        "y_pred = clf.predict(X_test)\n",
        "matrix = confusion_matrix(y_true, y_pred)\n",
        "\n",
        "label_names = pd.Series(le.classes_)\n",
        "scores = pd.DataFrame(matrix,\n",
        "     columns='Predicted ' + label_names,\n",
        "     index='Is ' + label_names).div(matrix.sum(axis=1), axis=0)\n",
        "scores.style.background_gradient(cmap='YlGnBu')"
      ],
      "execution_count": 59,
      "outputs": [
        {
          "output_type": "execute_result",
          "data": {
            "text/html": [
              "<style  type=\"text/css\" >\n",
              "#T_3c436182_935d_11eb_a9a1_0242ac1c0002row0_col0,#T_3c436182_935d_11eb_a9a1_0242ac1c0002row1_col1,#T_3c436182_935d_11eb_a9a1_0242ac1c0002row2_col2,#T_3c436182_935d_11eb_a9a1_0242ac1c0002row3_col3,#T_3c436182_935d_11eb_a9a1_0242ac1c0002row4_col4,#T_3c436182_935d_11eb_a9a1_0242ac1c0002row5_col5,#T_3c436182_935d_11eb_a9a1_0242ac1c0002row6_col6{\n",
              "            background-color:  #081d58;\n",
              "            color:  #f1f1f1;\n",
              "        }#T_3c436182_935d_11eb_a9a1_0242ac1c0002row0_col1,#T_3c436182_935d_11eb_a9a1_0242ac1c0002row1_col3,#T_3c436182_935d_11eb_a9a1_0242ac1c0002row1_col4,#T_3c436182_935d_11eb_a9a1_0242ac1c0002row1_col5,#T_3c436182_935d_11eb_a9a1_0242ac1c0002row2_col1,#T_3c436182_935d_11eb_a9a1_0242ac1c0002row2_col4,#T_3c436182_935d_11eb_a9a1_0242ac1c0002row3_col0,#T_3c436182_935d_11eb_a9a1_0242ac1c0002row3_col1,#T_3c436182_935d_11eb_a9a1_0242ac1c0002row3_col6,#T_3c436182_935d_11eb_a9a1_0242ac1c0002row4_col0,#T_3c436182_935d_11eb_a9a1_0242ac1c0002row4_col1,#T_3c436182_935d_11eb_a9a1_0242ac1c0002row4_col2,#T_3c436182_935d_11eb_a9a1_0242ac1c0002row5_col1,#T_3c436182_935d_11eb_a9a1_0242ac1c0002row5_col2,#T_3c436182_935d_11eb_a9a1_0242ac1c0002row6_col1{\n",
              "            background-color:  #ffffd9;\n",
              "            color:  #000000;\n",
              "        }#T_3c436182_935d_11eb_a9a1_0242ac1c0002row0_col2,#T_3c436182_935d_11eb_a9a1_0242ac1c0002row5_col3{\n",
              "            background-color:  #f9fdcb;\n",
              "            color:  #000000;\n",
              "        }#T_3c436182_935d_11eb_a9a1_0242ac1c0002row0_col3,#T_3c436182_935d_11eb_a9a1_0242ac1c0002row2_col6{\n",
              "            background-color:  #f7fcc6;\n",
              "            color:  #000000;\n",
              "        }#T_3c436182_935d_11eb_a9a1_0242ac1c0002row0_col4,#T_3c436182_935d_11eb_a9a1_0242ac1c0002row6_col0{\n",
              "            background-color:  #fcfed1;\n",
              "            color:  #000000;\n",
              "        }#T_3c436182_935d_11eb_a9a1_0242ac1c0002row0_col5{\n",
              "            background-color:  #fafdce;\n",
              "            color:  #000000;\n",
              "        }#T_3c436182_935d_11eb_a9a1_0242ac1c0002row0_col6{\n",
              "            background-color:  #61c2bf;\n",
              "            color:  #000000;\n",
              "        }#T_3c436182_935d_11eb_a9a1_0242ac1c0002row1_col0{\n",
              "            background-color:  #87d0ba;\n",
              "            color:  #000000;\n",
              "        }#T_3c436182_935d_11eb_a9a1_0242ac1c0002row1_col2{\n",
              "            background-color:  #2355a4;\n",
              "            color:  #f1f1f1;\n",
              "        }#T_3c436182_935d_11eb_a9a1_0242ac1c0002row1_col6{\n",
              "            background-color:  #e0f3b2;\n",
              "            color:  #000000;\n",
              "        }#T_3c436182_935d_11eb_a9a1_0242ac1c0002row2_col0,#T_3c436182_935d_11eb_a9a1_0242ac1c0002row4_col6{\n",
              "            background-color:  #eff9b6;\n",
              "            color:  #000000;\n",
              "        }#T_3c436182_935d_11eb_a9a1_0242ac1c0002row2_col3{\n",
              "            background-color:  #ceecb3;\n",
              "            color:  #000000;\n",
              "        }#T_3c436182_935d_11eb_a9a1_0242ac1c0002row2_col5{\n",
              "            background-color:  #fcfed3;\n",
              "            color:  #000000;\n",
              "        }#T_3c436182_935d_11eb_a9a1_0242ac1c0002row3_col2,#T_3c436182_935d_11eb_a9a1_0242ac1c0002row5_col0,#T_3c436182_935d_11eb_a9a1_0242ac1c0002row6_col2{\n",
              "            background-color:  #feffd8;\n",
              "            color:  #000000;\n",
              "        }#T_3c436182_935d_11eb_a9a1_0242ac1c0002row3_col4{\n",
              "            background-color:  #fdfed5;\n",
              "            color:  #000000;\n",
              "        }#T_3c436182_935d_11eb_a9a1_0242ac1c0002row3_col5,#T_3c436182_935d_11eb_a9a1_0242ac1c0002row6_col4{\n",
              "            background-color:  #feffd6;\n",
              "            color:  #000000;\n",
              "        }#T_3c436182_935d_11eb_a9a1_0242ac1c0002row4_col3{\n",
              "            background-color:  #d6efb3;\n",
              "            color:  #000000;\n",
              "        }#T_3c436182_935d_11eb_a9a1_0242ac1c0002row4_col5{\n",
              "            background-color:  #ddf2b2;\n",
              "            color:  #000000;\n",
              "        }#T_3c436182_935d_11eb_a9a1_0242ac1c0002row5_col4{\n",
              "            background-color:  #f6fbc5;\n",
              "            color:  #000000;\n",
              "        }#T_3c436182_935d_11eb_a9a1_0242ac1c0002row5_col6{\n",
              "            background-color:  #dff2b2;\n",
              "            color:  #000000;\n",
              "        }#T_3c436182_935d_11eb_a9a1_0242ac1c0002row6_col3{\n",
              "            background-color:  #fbfdd0;\n",
              "            color:  #000000;\n",
              "        }#T_3c436182_935d_11eb_a9a1_0242ac1c0002row6_col5{\n",
              "            background-color:  #f8fcca;\n",
              "            color:  #000000;\n",
              "        }</style><table id=\"T_3c436182_935d_11eb_a9a1_0242ac1c0002\" ><thead>    <tr>        <th class=\"blank level0\" ></th>        <th class=\"col_heading level0 col0\" >Predicted Dessert</th>        <th class=\"col_heading level0 col1\" >Predicted Fortified</th>        <th class=\"col_heading level0 col2\" >Predicted Port/Sherry</th>        <th class=\"col_heading level0 col3\" >Predicted Red</th>        <th class=\"col_heading level0 col4\" >Predicted Rose</th>        <th class=\"col_heading level0 col5\" >Predicted Sparkling</th>        <th class=\"col_heading level0 col6\" >Predicted White</th>    </tr></thead><tbody>\n",
              "                <tr>\n",
              "                        <th id=\"T_3c436182_935d_11eb_a9a1_0242ac1c0002level0_row0\" class=\"row_heading level0 row0\" >Is Dessert</th>\n",
              "                        <td id=\"T_3c436182_935d_11eb_a9a1_0242ac1c0002row0_col0\" class=\"data row0 col0\" >0.463768</td>\n",
              "                        <td id=\"T_3c436182_935d_11eb_a9a1_0242ac1c0002row0_col1\" class=\"data row0 col1\" >0.000000</td>\n",
              "                        <td id=\"T_3c436182_935d_11eb_a9a1_0242ac1c0002row0_col2\" class=\"data row0 col2\" >0.028986</td>\n",
              "                        <td id=\"T_3c436182_935d_11eb_a9a1_0242ac1c0002row0_col3\" class=\"data row0 col3\" >0.057971</td>\n",
              "                        <td id=\"T_3c436182_935d_11eb_a9a1_0242ac1c0002row0_col4\" class=\"data row0 col4\" >0.014493</td>\n",
              "                        <td id=\"T_3c436182_935d_11eb_a9a1_0242ac1c0002row0_col5\" class=\"data row0 col5\" >0.028986</td>\n",
              "                        <td id=\"T_3c436182_935d_11eb_a9a1_0242ac1c0002row0_col6\" class=\"data row0 col6\" >0.405797</td>\n",
              "            </tr>\n",
              "            <tr>\n",
              "                        <th id=\"T_3c436182_935d_11eb_a9a1_0242ac1c0002level0_row1\" class=\"row_heading level0 row1\" >Is Fortified</th>\n",
              "                        <td id=\"T_3c436182_935d_11eb_a9a1_0242ac1c0002row1_col0\" class=\"data row1 col0\" >0.166667</td>\n",
              "                        <td id=\"T_3c436182_935d_11eb_a9a1_0242ac1c0002row1_col1\" class=\"data row1 col1\" >0.166667</td>\n",
              "                        <td id=\"T_3c436182_935d_11eb_a9a1_0242ac1c0002row1_col2\" class=\"data row1 col2\" >0.500000</td>\n",
              "                        <td id=\"T_3c436182_935d_11eb_a9a1_0242ac1c0002row1_col3\" class=\"data row1 col3\" >0.000000</td>\n",
              "                        <td id=\"T_3c436182_935d_11eb_a9a1_0242ac1c0002row1_col4\" class=\"data row1 col4\" >0.000000</td>\n",
              "                        <td id=\"T_3c436182_935d_11eb_a9a1_0242ac1c0002row1_col5\" class=\"data row1 col5\" >0.000000</td>\n",
              "                        <td id=\"T_3c436182_935d_11eb_a9a1_0242ac1c0002row1_col6\" class=\"data row1 col6\" >0.166667</td>\n",
              "            </tr>\n",
              "            <tr>\n",
              "                        <th id=\"T_3c436182_935d_11eb_a9a1_0242ac1c0002level0_row2\" class=\"row_heading level0 row2\" >Is Port/Sherry</th>\n",
              "                        <td id=\"T_3c436182_935d_11eb_a9a1_0242ac1c0002row2_col0\" class=\"data row2 col0\" >0.050847</td>\n",
              "                        <td id=\"T_3c436182_935d_11eb_a9a1_0242ac1c0002row2_col1\" class=\"data row2 col1\" >0.000000</td>\n",
              "                        <td id=\"T_3c436182_935d_11eb_a9a1_0242ac1c0002row2_col2\" class=\"data row2 col2\" >0.644068</td>\n",
              "                        <td id=\"T_3c436182_935d_11eb_a9a1_0242ac1c0002row2_col3\" class=\"data row2 col3\" >0.220339</td>\n",
              "                        <td id=\"T_3c436182_935d_11eb_a9a1_0242ac1c0002row2_col4\" class=\"data row2 col4\" >0.000000</td>\n",
              "                        <td id=\"T_3c436182_935d_11eb_a9a1_0242ac1c0002row2_col5\" class=\"data row2 col5\" >0.016949</td>\n",
              "                        <td id=\"T_3c436182_935d_11eb_a9a1_0242ac1c0002row2_col6\" class=\"data row2 col6\" >0.067797</td>\n",
              "            </tr>\n",
              "            <tr>\n",
              "                        <th id=\"T_3c436182_935d_11eb_a9a1_0242ac1c0002level0_row3\" class=\"row_heading level0 row3\" >Is Red</th>\n",
              "                        <td id=\"T_3c436182_935d_11eb_a9a1_0242ac1c0002row3_col0\" class=\"data row3 col0\" >0.000604</td>\n",
              "                        <td id=\"T_3c436182_935d_11eb_a9a1_0242ac1c0002row3_col1\" class=\"data row3 col1\" >0.000000</td>\n",
              "                        <td id=\"T_3c436182_935d_11eb_a9a1_0242ac1c0002row3_col2\" class=\"data row3 col2\" >0.004834</td>\n",
              "                        <td id=\"T_3c436182_935d_11eb_a9a1_0242ac1c0002row3_col3\" class=\"data row3 col3\" >0.966163</td>\n",
              "                        <td id=\"T_3c436182_935d_11eb_a9a1_0242ac1c0002row3_col4\" class=\"data row3 col4\" >0.006647</td>\n",
              "                        <td id=\"T_3c436182_935d_11eb_a9a1_0242ac1c0002row3_col5\" class=\"data row3 col5\" >0.007251</td>\n",
              "                        <td id=\"T_3c436182_935d_11eb_a9a1_0242ac1c0002row3_col6\" class=\"data row3 col6\" >0.014502</td>\n",
              "            </tr>\n",
              "            <tr>\n",
              "                        <th id=\"T_3c436182_935d_11eb_a9a1_0242ac1c0002level0_row4\" class=\"row_heading level0 row4\" >Is Rose</th>\n",
              "                        <td id=\"T_3c436182_935d_11eb_a9a1_0242ac1c0002row4_col0\" class=\"data row4 col0\" >0.000000</td>\n",
              "                        <td id=\"T_3c436182_935d_11eb_a9a1_0242ac1c0002row4_col1\" class=\"data row4 col1\" >0.000000</td>\n",
              "                        <td id=\"T_3c436182_935d_11eb_a9a1_0242ac1c0002row4_col2\" class=\"data row4 col2\" >0.000000</td>\n",
              "                        <td id=\"T_3c436182_935d_11eb_a9a1_0242ac1c0002row4_col3\" class=\"data row4 col3\" >0.193798</td>\n",
              "                        <td id=\"T_3c436182_935d_11eb_a9a1_0242ac1c0002row4_col4\" class=\"data row4 col4\" >0.558140</td>\n",
              "                        <td id=\"T_3c436182_935d_11eb_a9a1_0242ac1c0002row4_col5\" class=\"data row4 col5\" >0.131783</td>\n",
              "                        <td id=\"T_3c436182_935d_11eb_a9a1_0242ac1c0002row4_col6\" class=\"data row4 col6\" >0.116279</td>\n",
              "            </tr>\n",
              "            <tr>\n",
              "                        <th id=\"T_3c436182_935d_11eb_a9a1_0242ac1c0002level0_row5\" class=\"row_heading level0 row5\" >Is Sparkling</th>\n",
              "                        <td id=\"T_3c436182_935d_11eb_a9a1_0242ac1c0002row5_col0\" class=\"data row5 col0\" >0.002833</td>\n",
              "                        <td id=\"T_3c436182_935d_11eb_a9a1_0242ac1c0002row5_col1\" class=\"data row5 col1\" >0.000000</td>\n",
              "                        <td id=\"T_3c436182_935d_11eb_a9a1_0242ac1c0002row5_col2\" class=\"data row5 col2\" >0.000000</td>\n",
              "                        <td id=\"T_3c436182_935d_11eb_a9a1_0242ac1c0002row5_col3\" class=\"data row5 col3\" >0.042493</td>\n",
              "                        <td id=\"T_3c436182_935d_11eb_a9a1_0242ac1c0002row5_col4\" class=\"data row5 col4\" >0.036827</td>\n",
              "                        <td id=\"T_3c436182_935d_11eb_a9a1_0242ac1c0002row5_col5\" class=\"data row5 col5\" >0.747875</td>\n",
              "                        <td id=\"T_3c436182_935d_11eb_a9a1_0242ac1c0002row5_col6\" class=\"data row5 col6\" >0.169972</td>\n",
              "            </tr>\n",
              "            <tr>\n",
              "                        <th id=\"T_3c436182_935d_11eb_a9a1_0242ac1c0002level0_row6\" class=\"row_heading level0 row6\" >Is White</th>\n",
              "                        <td id=\"T_3c436182_935d_11eb_a9a1_0242ac1c0002row6_col0\" class=\"data row6 col0\" >0.012276</td>\n",
              "                        <td id=\"T_3c436182_935d_11eb_a9a1_0242ac1c0002row6_col1\" class=\"data row6 col1\" >0.000000</td>\n",
              "                        <td id=\"T_3c436182_935d_11eb_a9a1_0242ac1c0002row6_col2\" class=\"data row6 col2\" >0.002833</td>\n",
              "                        <td id=\"T_3c436182_935d_11eb_a9a1_0242ac1c0002row6_col3\" class=\"data row6 col3\" >0.026440</td>\n",
              "                        <td id=\"T_3c436182_935d_11eb_a9a1_0242ac1c0002row6_col4\" class=\"data row6 col4\" >0.004721</td>\n",
              "                        <td id=\"T_3c436182_935d_11eb_a9a1_0242ac1c0002row6_col5\" class=\"data row6 col5\" >0.036827</td>\n",
              "                        <td id=\"T_3c436182_935d_11eb_a9a1_0242ac1c0002row6_col6\" class=\"data row6 col6\" >0.916903</td>\n",
              "            </tr>\n",
              "    </tbody></table>"
            ],
            "text/plain": [
              "<pandas.io.formats.style.Styler at 0x7fdbc56df2d0>"
            ]
          },
          "metadata": {
            "tags": []
          },
          "execution_count": 59
        }
      ]
    },
    {
      "cell_type": "code",
      "metadata": {
        "id": "fG9NnU_jZokQ"
      },
      "source": [
        ""
      ],
      "execution_count": null,
      "outputs": []
    },
    {
      "cell_type": "code",
      "metadata": {
        "id": "gll85eKmZokQ"
      },
      "source": [
        ""
      ],
      "execution_count": null,
      "outputs": []
    },
    {
      "cell_type": "code",
      "metadata": {
        "id": "CQ2GqjfhZokQ"
      },
      "source": [
        ""
      ],
      "execution_count": null,
      "outputs": []
    },
    {
      "cell_type": "code",
      "metadata": {
        "id": "EMfvm0rwZokQ"
      },
      "source": [
        ""
      ],
      "execution_count": null,
      "outputs": []
    },
    {
      "cell_type": "code",
      "metadata": {
        "id": "MaoDkgxEZokQ"
      },
      "source": [
        ""
      ],
      "execution_count": null,
      "outputs": []
    }
  ]
}